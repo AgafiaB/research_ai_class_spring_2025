{
 "cells": [
  {
   "cell_type": "code",
   "execution_count": null,
   "id": "e00fb58b",
   "metadata": {},
   "outputs": [],
   "source": [
    "# temporary solution to crashing\n",
    "import os\n",
    "os.environ['KMP_DUPLICATE_LIB_OK'] = 'TRUE'"
   ]
  },
  {
   "cell_type": "code",
   "execution_count": null,
   "id": "3922db57",
   "metadata": {},
   "outputs": [],
   "source": [
    "import torch\n",
    "from pathlib import Path\n",
    "import torch.nn as nn\n",
    "import torch.nn.functional as F\n",
    "import torchvision\n",
    "import torchvision.transforms as transforms\n",
    "import matplotlib.pyplot as plt\n",
    "import numpy as np\n",
    "import mysql.connector as connector\n",
    "from pathlib import Path\n",
    "\n",
    "import logging"
   ]
  },
  {
   "cell_type": "code",
   "execution_count": null,
   "id": "09de19d1",
   "metadata": {},
   "outputs": [],
   "source": [
    "home = os.path.expanduser('~')\n",
    "os.chdir(home) # b/c we will be using universal paths\n",
    "\n",
    "host = '127.0.0.1'\n",
    "user = 'root' # change to your username\n",
    "password = 'vasya1' # change to your password\n",
    "database = 'ai_proj_2025' # for the sake of sanity, we should all have this as the db name \n",
    "\n",
    "try:\n",
    "    conn = connector.connect(\n",
    "        host = host, \n",
    "        user = user, \n",
    "        password = password, \n",
    "        database = database\n",
    "    )\n",
    "    print('success')\n",
    "except connector.Error as err:\n",
    "    print(err)"
   ]
  },
  {
   "cell_type": "markdown",
   "id": "0fd03f33",
   "metadata": {},
   "source": [
    "Note: the entire CrisisMMD dataset in SQL contains 18,032 images. "
   ]
  },
  {
   "cell_type": "code",
   "execution_count": null,
   "id": "48e1d706",
   "metadata": {},
   "outputs": [],
   "source": [
    "# research_dir = Path(home, 'Desktop', 'Education', 'Spring 2025', 'AI', 'research')\n",
    "research_dir = Path(home, \"ai_research_proj_spring_2025\", \"research_ai_class_spring_2025\") # in lab 409 computer for Agafia\n",
    "os.chdir(research_dir)\n",
    "\n",
    "from data_helper import SQLDataset_Informative\n",
    "\n",
    "os.chdir(home)"
   ]
  },
  {
   "cell_type": "code",
   "execution_count": null,
   "id": "b66b4546",
   "metadata": {},
   "outputs": [],
   "source": [
    "#Define the convnet (Eventually replae with mobile 2)\n",
    "class ConvNet(nn.Module):\n",
    "    def __init__(self):\n",
    "        super(ConvNet, self).__init__()\n",
    "        self.conv1 = nn.Conv2d(3, 16, 3) #specify the size (outer numbers) and amount (middle number) of filters\n",
    "        self.pool = nn.MaxPool2d(2, 2) #specify pool size first number is size of pool, second is step size\n",
    "        self.conv2 = nn.Conv2d(16, 8, 3) #new depth is amount of filters in previous conv layer\n",
    "        self.fc1 = nn.Linear(54*54*8, 120)\n",
    "        self.fc2 = nn.Linear(120, 60)\n",
    "        self.fc3 = nn.Linear(60, 3) #finial fc layer needs 19 outputs because we have 19 layers # ???\n",
    "\n",
    "    def forward(self, x):\n",
    "\n",
    "        x = F.relu(self.conv1(x))\n",
    "     \n",
    "        x = self.pool(x)\n",
    "       \n",
    "        x = F.relu(self.conv2(x))\n",
    "\n",
    "        x = self.pool(x)\n",
    "\n",
    "        x = x.view(-1, 54*54*8) # flatten\n",
    "\n",
    "        x = F.relu(self.fc1(x))    #fully connected, relu         \n",
    "        x = F.relu(self.fc2(x))    \n",
    "       \n",
    "        x = self.fc3(x)     #output    \n",
    "        return x"
   ]
  },
  {
   "cell_type": "code",
   "execution_count": null,
   "id": "639aed41",
   "metadata": {},
   "outputs": [],
   "source": [
    "from torchvision.transforms import v2\n",
    "\n",
    "# transforms\n",
    "transformations = v2.Compose([\n",
    "    v2.RandomResizedCrop(size=(224, 224), antialias=True), \n",
    "    v2.RandomHorizontalFlip(p=0.5),\n",
    "    v2.ToDtype(torch.float32, scale=True),\n",
    "    v2.Normalize(mean=[0.485, 0.456, 0.406], std=[0.229, 0.224, 0.225]),\n",
    "])"
   ]
  },
  {
   "cell_type": "code",
   "execution_count": null,
   "id": "5183dc3d",
   "metadata": {},
   "outputs": [],
   "source": [
    "# create train, val, and test sets\n",
    "\n",
    "data_dir=Path('OneDrive - Stephen F. Austin State University', 'CrisisMMD_v2.0','CrisisMMD_v2.0')\n",
    "\n",
    "train_set = SQLDataset_Informative(conn=conn, img_col='image_path', label_col='image_info', transform=transformations, \n",
    "                     data_dir=data_dir, is_train=True)\n",
    "val_set = SQLDataset_Informative(conn=conn, img_col='image_path', label_col='image_info', transform=transformations, \n",
    "                     data_dir=data_dir, is_val=True)\n",
    "test_set = SQLDataset_Informative(conn=conn, img_col='image_path', label_col='image_info', transform=transformations, \n",
    "                     data_dir=data_dir, is_test=True)"
   ]
  },
  {
   "cell_type": "code",
   "execution_count": null,
   "id": "99645787",
   "metadata": {},
   "outputs": [],
   "source": [
    "from torch.utils.data import DataLoader\n",
    "train_loader = DataLoader(set, batch_size=32)"
   ]
  },
  {
   "cell_type": "code",
   "execution_count": null,
   "id": "2de20233",
   "metadata": {},
   "outputs": [],
   "source": [
    "model = ConvNet()"
   ]
  },
  {
   "cell_type": "code",
   "execution_count": null,
   "id": "b6558ab6",
   "metadata": {},
   "outputs": [],
   "source": [
    "test_result = model.forward(set.__getitem__(0)[0])\n",
    "test_result.shape"
   ]
  },
  {
   "cell_type": "code",
   "execution_count": null,
   "id": "b4e94576",
   "metadata": {},
   "outputs": [],
   "source": [
    "learning_rate = .001\n",
    "num_epochs = 500\n",
    "device = torch.device('cuda' if torch.cuda.is_available() else 'cpu')\n",
    "device"
   ]
  },
  {
   "cell_type": "code",
   "execution_count": null,
   "id": "4d0117d2",
   "metadata": {},
   "outputs": [],
   "source": [
    "# from tqdm import tqdm \n",
    "\n",
    "# #Train the model\n",
    "# model = ConvNet().to(device)\n",
    "\n",
    "# cross_entropy = nn.CrossEntropyLoss() #cross entropy loss for our loss function\n",
    "# optimizer = torch.optim.Adam(model.parameters(), lr=learning_rate) #stocastic gradient descent for our optimization algorithm\n",
    "\n",
    "# for epoch in range(num_epochs):\n",
    "#     print('Epoch', epoch)\n",
    "#     for item in tqdm(train_loader, total= len(train_loader), desc=f\"Processing data in epoch {epoch}\"):\n",
    "\n",
    "#         images = item[0]\n",
    "\n",
    "#         labels = item[1]\n",
    "#         assert(labels.shape[0] == images.shape[0])\n",
    "\n",
    "#         images = images.to(device)\n",
    "#         labels = labels.to(device)\n",
    "\n",
    "#         # Forward pass\n",
    "#         outputs = model.forward(images)\n",
    "\n",
    "#         loss = cross_entropy(outputs, labels)\n",
    "#         print(f'Train Loss: {loss}')\n",
    "\n",
    "#         # Backward and optimize\n",
    "#         optimizer.zero_grad()\n",
    "#         loss.backward() # backpropagation\n",
    "#         optimizer.step() # updating parameters\n",
    "        \n",
    "# print('Finished Training')\n",
    "# PATH = research_dir / './cnn.pth'\n",
    "# torch.save(model.state_dict(), PATH)"
   ]
  },
  {
   "cell_type": "code",
   "execution_count": null,
   "id": "a0576a73",
   "metadata": {},
   "outputs": [],
   "source": [
    "# time to train\n",
    "\n"
   ]
  },
  {
   "cell_type": "code",
   "execution_count": null,
   "id": "ee9f3edf",
   "metadata": {},
   "outputs": [],
   "source": [
    "loaded_model_dict = torch.load(PATH)"
   ]
  },
  {
   "cell_type": "code",
   "execution_count": null,
   "id": "d22520b5",
   "metadata": {},
   "outputs": [],
   "source": [
    "loaded_model_dict.keys()"
   ]
  },
  {
   "cell_type": "code",
   "execution_count": null,
   "id": "f54110eb",
   "metadata": {},
   "outputs": [],
   "source": [
    "loaded_model = ConvNet().load_state_dict(state_dict=loaded_model_dict)"
   ]
  },
  {
   "cell_type": "code",
   "execution_count": null,
   "id": "9f6eb319",
   "metadata": {},
   "outputs": [],
   "source": []
  }
 ],
 "metadata": {
  "kernelspec": {
   "display_name": "torch",
   "language": "python",
   "name": "python3"
  },
  "language_info": {
   "codemirror_mode": {
    "name": "ipython",
    "version": 3
   },
   "file_extension": ".py",
   "mimetype": "text/x-python",
   "name": "python",
   "nbconvert_exporter": "python",
   "pygments_lexer": "ipython3",
   "version": "3.12.3"
  }
 },
 "nbformat": 4,
 "nbformat_minor": 5
}
