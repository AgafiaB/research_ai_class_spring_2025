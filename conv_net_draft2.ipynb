{
 "cells": [
  {
   "cell_type": "code",
   "execution_count": 1,
   "id": "e00fb58b",
   "metadata": {},
   "outputs": [],
   "source": [
    "# temporary solution to crashing\n",
    "import os\n",
    "os.environ['KMP_DUPLICATE_LIB_OK'] = 'TRUE'"
   ]
  },
  {
   "cell_type": "code",
   "execution_count": 2,
   "id": "3922db57",
   "metadata": {},
   "outputs": [],
   "source": [
    "import torch\n",
    "from pathlib import Path\n",
    "import torch.nn as nn\n",
    "import torch.nn.functional as F\n",
    "import torchvision\n",
    "import torchvision.transforms as transforms\n",
    "import matplotlib.pyplot as plt\n",
    "import numpy as np\n",
    "import mysql.connector as connector\n",
    "from pathlib import Path\n",
    "import wandb\n",
    "import tqdm\n",
    "\n",
    "import logging"
   ]
  },
  {
   "cell_type": "code",
   "execution_count": 3,
   "id": "09de19d1",
   "metadata": {},
   "outputs": [
    {
     "name": "stdout",
     "output_type": "stream",
     "text": [
      "success\n"
     ]
    }
   ],
   "source": [
    "home = os.path.expanduser('~')\n",
    "os.chdir(home) # b/c we will be using universal paths\n",
    "\n",
    "host = '127.0.0.1'\n",
    "user = 'root' # change to your username\n",
    "password = 'vasya1' # change to your password\n",
    "database = 'ai_proj_2025' # for the sake of sanity, we should all have this as the db name \n",
    "\n",
    "try:\n",
    "    conn = connector.connect(\n",
    "        host = host, \n",
    "        user = user, \n",
    "        password = password, \n",
    "        database = database\n",
    "    )\n",
    "    print('success')\n",
    "except connector.Error as err:\n",
    "    print(err)"
   ]
  },
  {
   "cell_type": "markdown",
   "id": "0fd03f33",
   "metadata": {},
   "source": [
    "Note: the entire CrisisMMD dataset in SQL contains a little over 18,000 images. "
   ]
  },
  {
   "cell_type": "code",
   "execution_count": 4,
   "id": "48e1d706",
   "metadata": {},
   "outputs": [
    {
     "ename": "FileNotFoundError",
     "evalue": "[WinError 3] The system cannot find the path specified: 'C:\\\\Users\\\\agafi\\\\ai_research_proj_spring_2025\\\\research_ai_class_spring_2025'",
     "output_type": "error",
     "traceback": [
      "\u001b[1;31m---------------------------------------------------------------------------\u001b[0m",
      "\u001b[1;31mFileNotFoundError\u001b[0m                         Traceback (most recent call last)",
      "Cell \u001b[1;32mIn[4], line 3\u001b[0m\n\u001b[0;32m      1\u001b[0m \u001b[38;5;66;03m# research_dir = Path(home, 'Desktop', 'Education', 'Spring 2025', 'AI', 'research')\u001b[39;00m\n\u001b[0;32m      2\u001b[0m research_dir \u001b[38;5;241m=\u001b[39m Path(home, \u001b[38;5;124m\"\u001b[39m\u001b[38;5;124mai_research_proj_spring_2025\u001b[39m\u001b[38;5;124m\"\u001b[39m, \u001b[38;5;124m\"\u001b[39m\u001b[38;5;124mresearch_ai_class_spring_2025\u001b[39m\u001b[38;5;124m\"\u001b[39m) \u001b[38;5;66;03m# in lab 409 computer for Agafia\u001b[39;00m\n\u001b[1;32m----> 3\u001b[0m os\u001b[38;5;241m.\u001b[39mchdir(research_dir)\n\u001b[0;32m      5\u001b[0m \u001b[38;5;28;01mfrom\u001b[39;00m \u001b[38;5;21;01mdata_helper\u001b[39;00m \u001b[38;5;28;01mimport\u001b[39;00m SQLDataset_Informative\n\u001b[0;32m      7\u001b[0m os\u001b[38;5;241m.\u001b[39mchdir(home)\n",
      "\u001b[1;31mFileNotFoundError\u001b[0m: [WinError 3] The system cannot find the path specified: 'C:\\\\Users\\\\agafi\\\\ai_research_proj_spring_2025\\\\research_ai_class_spring_2025'"
     ]
    }
   ],
   "source": [
    "# research_dir = Path(home, 'Desktop', 'Education', 'Spring 2025', 'AI', 'research')\n",
    "research_dir = Path(home, \"ai_research_proj_spring_2025\", \"research_ai_class_spring_2025\") # in lab 409 computer for Agafia\n",
    "os.chdir(research_dir)\n",
    "\n",
    "from data_helper import SQLDataset_Informative\n",
    "\n",
    "os.chdir(home)"
   ]
  },
  {
   "cell_type": "code",
   "execution_count": 5,
   "id": "b66b4546",
   "metadata": {},
   "outputs": [],
   "source": [
    "#Define the convnet (Eventually replae with mobile 2)\n",
    "class ConvNet(nn.Module):\n",
    "    def __init__(self):\n",
    "        super(ConvNet, self).__init__()\n",
    "        self.conv1 = nn.Conv2d(3, 16, 3) #specify the size (outer numbers) and amount (middle number) of filters\n",
    "        self.pool = nn.MaxPool2d(2, 2) #specify pool size first number is size of pool, second is step size\n",
    "        self.conv2 = nn.Conv2d(16, 8, 3) #new depth is amount of filters in previous conv layer\n",
    "        self.fc1 = nn.Linear(54*54*8, 120)\n",
    "        self.fc2 = nn.Linear(120, 60)\n",
    "        self.fc3 = nn.Linear(60, 2) #finial fc layer needs 19 outputs because we have 19 layers # ???\n",
    "\n",
    "    def forward(self, x):\n",
    "\n",
    "        x = F.relu(self.conv1(x))\n",
    "     \n",
    "        x = self.pool(x)\n",
    "       \n",
    "        x = F.relu(self.conv2(x))\n",
    "\n",
    "        x = self.pool(x)\n",
    "\n",
    "        x = x.view(-1, 54*54*8) # flatten\n",
    "\n",
    "        x = F.relu(self.fc1(x))    #fully connected, relu         \n",
    "        x = F.relu(self.fc2(x))    \n",
    "       \n",
    "        x = self.fc3(x)     #output    \n",
    "        return x"
   ]
  },
  {
   "cell_type": "code",
   "execution_count": 6,
   "id": "639aed41",
   "metadata": {},
   "outputs": [],
   "source": [
    "from torchvision.transforms import v2\n",
    "\n",
    "# transforms\n",
    "transformations = v2.Compose([\n",
    "    v2.RandomResizedCrop(size=(224, 224), antialias=True), \n",
    "    v2.RandomHorizontalFlip(p=0.5),\n",
    "    v2.ToDtype(torch.float32, scale=True),\n",
    "    v2.Normalize(mean=[0.485, 0.456, 0.406], std=[0.229, 0.224, 0.225]),\n",
    "])"
   ]
  },
  {
   "cell_type": "code",
   "execution_count": 7,
   "id": "5183dc3d",
   "metadata": {},
   "outputs": [
    {
     "ename": "NameError",
     "evalue": "name 'SQLDataset_Informative' is not defined",
     "output_type": "error",
     "traceback": [
      "\u001b[1;31m---------------------------------------------------------------------------\u001b[0m",
      "\u001b[1;31mNameError\u001b[0m                                 Traceback (most recent call last)",
      "Cell \u001b[1;32mIn[7], line 5\u001b[0m\n\u001b[0;32m      1\u001b[0m \u001b[38;5;66;03m# create train, val, and test sets\u001b[39;00m\n\u001b[0;32m      3\u001b[0m data_dir\u001b[38;5;241m=\u001b[39mPath(\u001b[38;5;124m'\u001b[39m\u001b[38;5;124mOneDrive - Stephen F. Austin State University\u001b[39m\u001b[38;5;124m'\u001b[39m, \u001b[38;5;124m'\u001b[39m\u001b[38;5;124mCrisisMMD_v2.0\u001b[39m\u001b[38;5;124m'\u001b[39m,\u001b[38;5;124m'\u001b[39m\u001b[38;5;124mCrisisMMD_v2.0\u001b[39m\u001b[38;5;124m'\u001b[39m)\n\u001b[1;32m----> 5\u001b[0m train_set \u001b[38;5;241m=\u001b[39m SQLDataset_Informative(conn\u001b[38;5;241m=\u001b[39mconn, img_col\u001b[38;5;241m=\u001b[39m\u001b[38;5;124m'\u001b[39m\u001b[38;5;124mimage_path\u001b[39m\u001b[38;5;124m'\u001b[39m, label_col\u001b[38;5;241m=\u001b[39m\u001b[38;5;124m'\u001b[39m\u001b[38;5;124mimage_info\u001b[39m\u001b[38;5;124m'\u001b[39m, transform\u001b[38;5;241m=\u001b[39mtransformations, \n\u001b[0;32m      6\u001b[0m                      data_dir\u001b[38;5;241m=\u001b[39mdata_dir, is_train\u001b[38;5;241m=\u001b[39m\u001b[38;5;28;01mTrue\u001b[39;00m)\n\u001b[0;32m      7\u001b[0m val_set \u001b[38;5;241m=\u001b[39m SQLDataset_Informative(conn\u001b[38;5;241m=\u001b[39mconn, img_col\u001b[38;5;241m=\u001b[39m\u001b[38;5;124m'\u001b[39m\u001b[38;5;124mimage_path\u001b[39m\u001b[38;5;124m'\u001b[39m, label_col\u001b[38;5;241m=\u001b[39m\u001b[38;5;124m'\u001b[39m\u001b[38;5;124mimage_info\u001b[39m\u001b[38;5;124m'\u001b[39m, transform\u001b[38;5;241m=\u001b[39mtransformations, \n\u001b[0;32m      8\u001b[0m                      data_dir\u001b[38;5;241m=\u001b[39mdata_dir, is_val\u001b[38;5;241m=\u001b[39m\u001b[38;5;28;01mTrue\u001b[39;00m)\n\u001b[0;32m      9\u001b[0m test_set \u001b[38;5;241m=\u001b[39m SQLDataset_Informative(conn\u001b[38;5;241m=\u001b[39mconn, img_col\u001b[38;5;241m=\u001b[39m\u001b[38;5;124m'\u001b[39m\u001b[38;5;124mimage_path\u001b[39m\u001b[38;5;124m'\u001b[39m, label_col\u001b[38;5;241m=\u001b[39m\u001b[38;5;124m'\u001b[39m\u001b[38;5;124mimage_info\u001b[39m\u001b[38;5;124m'\u001b[39m, transform\u001b[38;5;241m=\u001b[39mtransformations, \n\u001b[0;32m     10\u001b[0m                      data_dir\u001b[38;5;241m=\u001b[39mdata_dir, is_test\u001b[38;5;241m=\u001b[39m\u001b[38;5;28;01mTrue\u001b[39;00m)\n",
      "\u001b[1;31mNameError\u001b[0m: name 'SQLDataset_Informative' is not defined"
     ]
    }
   ],
   "source": [
    "# create train, val, and test sets\n",
    "\n",
    "data_dir=Path('OneDrive - Stephen F. Austin State University', 'CrisisMMD_v2.0','CrisisMMD_v2.0')\n",
    "\n",
    "train_set = SQLDataset_Informative(conn=conn, img_col='image_path', label_col='image_info', transform=transformations, \n",
    "                     data_dir=data_dir, is_train=True)\n",
    "val_set = SQLDataset_Informative(conn=conn, img_col='image_path', label_col='image_info', transform=transformations, \n",
    "                     data_dir=data_dir, is_val=True)\n",
    "test_set = SQLDataset_Informative(conn=conn, img_col='image_path', label_col='image_info', transform=transformations, \n",
    "                     data_dir=data_dir, is_test=True)"
   ]
  },
  {
   "cell_type": "code",
   "execution_count": null,
   "id": "41837741",
   "metadata": {},
   "outputs": [
    {
     "data": {
      "text/plain": [
       "16274"
      ]
     },
     "execution_count": 8,
     "metadata": {},
     "output_type": "execute_result"
    }
   ],
   "source": [
    "train_set.__len__()"
   ]
  },
  {
   "cell_type": "code",
   "execution_count": null,
   "id": "99645787",
   "metadata": {},
   "outputs": [],
   "source": [
    "from torch.utils.data import DataLoader\n",
    "\n",
    "train_loader = DataLoader(train_set, batch_size=64)\n",
    "val_loader = DataLoader(val_set, batch_size=64)\n",
    "test_loader = DataLoader(test_set, batch_size=64)\n"
   ]
  },
  {
   "cell_type": "code",
   "execution_count": 8,
   "id": "2de20233",
   "metadata": {},
   "outputs": [],
   "source": [
    "model = ConvNet()"
   ]
  },
  {
   "cell_type": "code",
   "execution_count": 9,
   "id": "1baa73e0",
   "metadata": {},
   "outputs": [
    {
     "data": {
      "text/plain": [
       "2808470"
      ]
     },
     "execution_count": 9,
     "metadata": {},
     "output_type": "execute_result"
    }
   ],
   "source": [
    "sum(p.numel() for p in model.parameters() if p.requires_grad)"
   ]
  },
  {
   "cell_type": "code",
   "execution_count": 13,
   "id": "c448f261",
   "metadata": {},
   "outputs": [
    {
     "name": "stdout",
     "output_type": "stream",
     "text": [
      "ConvNet(\n",
      "  (conv1): Conv2d(3, 16, kernel_size=(3, 3), stride=(1, 1))\n",
      "  (pool): MaxPool2d(kernel_size=2, stride=2, padding=0, dilation=1, ceil_mode=False)\n",
      "  (conv2): Conv2d(16, 8, kernel_size=(3, 3), stride=(1, 1))\n",
      "  (fc1): Linear(in_features=23328, out_features=120, bias=True)\n",
      "  (fc2): Linear(in_features=120, out_features=60, bias=True)\n",
      "  (fc3): Linear(in_features=60, out_features=2, bias=True)\n",
      ")\n",
      "Parameter containing:\n",
      "tensor([[[[-1.7090e-02, -1.7716e-02, -1.4424e-01],\n",
      "          [-9.1638e-03, -1.5260e-01,  5.3528e-03],\n",
      "          [ 1.7386e-01, -8.5570e-02, -1.5085e-01]],\n",
      "\n",
      "         [[-1.6821e-01,  1.2913e-01,  5.8813e-02],\n",
      "          [-1.7426e-01,  7.1126e-03, -1.0651e-01],\n",
      "          [-1.0754e-01, -2.4119e-02,  1.2537e-01]],\n",
      "\n",
      "         [[ 1.9071e-01, -9.2676e-02, -2.2592e-02],\n",
      "          [ 1.5451e-01, -1.0522e-01, -7.2909e-02],\n",
      "          [ 1.0914e-01,  6.3291e-02,  1.7715e-01]]],\n",
      "\n",
      "\n",
      "        [[[ 4.2871e-02, -3.0366e-02,  4.0613e-02],\n",
      "          [-1.2580e-01,  5.4030e-02, -1.8546e-01],\n",
      "          [-1.2831e-01, -1.8500e-01, -1.1778e-01]],\n",
      "\n",
      "         [[-1.6833e-01,  1.7995e-01, -9.8971e-02],\n",
      "          [ 1.7909e-01,  4.3609e-02, -8.3747e-02],\n",
      "          [ 1.6252e-01, -1.6205e-01, -3.9738e-02]],\n",
      "\n",
      "         [[ 1.4707e-01,  2.9192e-02,  1.2048e-01],\n",
      "          [-7.9176e-02,  2.4835e-02,  8.0550e-02],\n",
      "          [-8.9208e-03, -1.1620e-01, -2.5113e-02]]],\n",
      "\n",
      "\n",
      "        [[[-9.3802e-02, -1.1116e-01,  1.9656e-02],\n",
      "          [-8.1642e-02,  9.6605e-02, -3.5599e-02],\n",
      "          [ 2.6858e-02,  9.7652e-02, -4.6466e-02]],\n",
      "\n",
      "         [[-1.5868e-01,  1.8550e-01, -1.1721e-01],\n",
      "          [ 1.4391e-01, -9.9968e-02, -4.2939e-02],\n",
      "          [ 1.7726e-01, -1.6156e-01, -1.2098e-03]],\n",
      "\n",
      "         [[ 5.5714e-02, -3.9898e-02,  3.8802e-02],\n",
      "          [-1.3960e-01,  2.6144e-02, -1.4345e-01],\n",
      "          [ 1.4306e-01,  1.1749e-01,  1.7369e-01]]],\n",
      "\n",
      "\n",
      "        [[[ 1.0313e-01, -1.3754e-01, -2.6665e-02],\n",
      "          [ 5.9376e-02,  1.0479e-01,  3.8876e-03],\n",
      "          [ 2.7254e-02,  1.4331e-01,  1.1390e-01]],\n",
      "\n",
      "         [[-4.8215e-02,  1.1842e-01,  3.2315e-02],\n",
      "          [ 2.9096e-03, -6.0117e-02, -1.0291e-01],\n",
      "          [ 4.5437e-02, -1.0659e-01,  9.8337e-02]],\n",
      "\n",
      "         [[ 5.2202e-04,  1.4786e-01, -1.5395e-01],\n",
      "          [ 1.1345e-01, -1.3941e-02, -1.0211e-01],\n",
      "          [-1.1270e-01, -8.3240e-02,  1.6037e-01]]],\n",
      "\n",
      "\n",
      "        [[[ 8.2112e-03,  1.4849e-01, -2.0780e-02],\n",
      "          [-1.8786e-01,  9.3332e-02,  5.9143e-02],\n",
      "          [ 1.0152e-01,  1.7750e-02, -1.0190e-01]],\n",
      "\n",
      "         [[ 1.6055e-01,  1.5216e-01,  9.2584e-03],\n",
      "          [-1.5014e-01,  5.1782e-02, -1.6083e-04],\n",
      "          [ 1.7103e-01, -4.2507e-02,  1.2111e-01]],\n",
      "\n",
      "         [[ 1.1532e-01, -1.6445e-01,  1.7098e-01],\n",
      "          [ 3.4833e-03,  1.9233e-01,  1.8511e-01],\n",
      "          [ 1.4045e-01, -7.8568e-03, -1.5104e-01]]],\n",
      "\n",
      "\n",
      "        [[[ 1.5529e-01, -1.2321e-01, -6.0651e-04],\n",
      "          [ 1.3676e-01, -6.5505e-02,  7.0521e-02],\n",
      "          [-1.5942e-01,  1.6042e-01,  1.6449e-01]],\n",
      "\n",
      "         [[-5.1542e-02,  1.8279e-01, -4.2637e-02],\n",
      "          [ 4.8379e-02, -3.5387e-02, -1.3952e-01],\n",
      "          [-1.1826e-01, -1.4587e-01, -2.5562e-02]],\n",
      "\n",
      "         [[ 6.0518e-02, -4.5883e-02,  4.8690e-02],\n",
      "          [ 1.9121e-01,  9.7698e-02,  1.4513e-01],\n",
      "          [-9.1939e-02, -1.3278e-01, -1.4160e-01]]],\n",
      "\n",
      "\n",
      "        [[[ 1.2719e-01,  1.0473e-01,  1.1081e-01],\n",
      "          [-1.4453e-01, -4.1579e-02, -1.9222e-01],\n",
      "          [-1.1428e-01, -1.6349e-01, -5.1694e-02]],\n",
      "\n",
      "         [[ 1.3333e-01,  6.2211e-02,  1.6099e-01],\n",
      "          [-1.7599e-01,  5.2954e-02,  1.5602e-01],\n",
      "          [-1.3558e-01, -1.4197e-01,  4.0774e-02]],\n",
      "\n",
      "         [[ 1.5910e-01, -3.9152e-02, -1.4520e-01],\n",
      "          [-3.3498e-02, -3.7227e-02,  1.0681e-01],\n",
      "          [-1.6656e-01,  3.7049e-02, -8.8856e-02]]],\n",
      "\n",
      "\n",
      "        [[[ 9.6142e-02, -3.8248e-02, -1.8150e-01],\n",
      "          [-1.0648e-01, -4.4946e-02,  8.9888e-02],\n",
      "          [-1.3237e-01,  1.4477e-01, -1.6258e-01]],\n",
      "\n",
      "         [[-1.7729e-01,  1.3626e-01,  1.8518e-01],\n",
      "          [ 1.0678e-01,  9.2160e-02,  1.5313e-01],\n",
      "          [-1.4673e-01,  1.8246e-01, -1.7523e-01]],\n",
      "\n",
      "         [[-1.5548e-01, -1.8789e-01,  1.6989e-01],\n",
      "          [-6.7482e-02, -1.5670e-01,  1.1573e-02],\n",
      "          [-1.4775e-01,  7.8457e-02, -1.2455e-01]]],\n",
      "\n",
      "\n",
      "        [[[-7.5246e-02,  6.7094e-02,  1.2115e-01],\n",
      "          [-2.6807e-02,  8.2698e-02,  1.7839e-01],\n",
      "          [ 4.5045e-02,  1.3090e-01,  9.6843e-02]],\n",
      "\n",
      "         [[ 4.2650e-02,  1.1222e-01,  1.7797e-01],\n",
      "          [-9.9931e-02, -7.5913e-03,  3.7505e-02],\n",
      "          [-1.8875e-01,  1.5596e-01,  1.1722e-01]],\n",
      "\n",
      "         [[-1.0553e-01, -1.7842e-01,  4.1813e-02],\n",
      "          [-7.9484e-02, -6.7394e-02, -1.5397e-01],\n",
      "          [ 1.0199e-01,  1.2990e-01,  8.2617e-02]]],\n",
      "\n",
      "\n",
      "        [[[-9.4021e-02, -1.7686e-01, -1.3253e-01],\n",
      "          [ 6.5244e-03,  7.2446e-02,  1.4708e-01],\n",
      "          [-4.3716e-02,  8.4934e-02, -8.8627e-03]],\n",
      "\n",
      "         [[ 1.0915e-02, -1.7113e-01, -1.5446e-02],\n",
      "          [ 7.1773e-04, -1.6057e-01,  9.8519e-02],\n",
      "          [-1.3008e-01, -1.1118e-01,  2.6022e-02]],\n",
      "\n",
      "         [[-8.3743e-02,  1.6328e-02, -2.0029e-04],\n",
      "          [-1.5774e-01,  9.3575e-02, -1.7432e-01],\n",
      "          [ 1.4466e-01,  1.0693e-01, -6.1751e-02]]],\n",
      "\n",
      "\n",
      "        [[[-1.8455e-01, -9.3317e-03, -1.6525e-01],\n",
      "          [ 1.6860e-01, -1.8329e-01, -1.7420e-01],\n",
      "          [ 9.9739e-02,  1.0189e-01,  9.6946e-02]],\n",
      "\n",
      "         [[ 1.4532e-01,  1.2785e-01, -3.3846e-02],\n",
      "          [-7.4862e-02, -1.8522e-01,  1.8547e-01],\n",
      "          [ 5.7426e-03,  1.1775e-01,  1.1327e-01]],\n",
      "\n",
      "         [[-8.6206e-02,  7.6462e-02, -1.2860e-01],\n",
      "          [ 1.1999e-01, -1.9149e-01, -8.3404e-02],\n",
      "          [ 4.1754e-02,  4.9174e-02,  1.2656e-01]]],\n",
      "\n",
      "\n",
      "        [[[-8.2840e-04, -5.7046e-02, -3.8256e-02],\n",
      "          [ 8.8651e-02,  5.8964e-02,  4.3777e-02],\n",
      "          [ 9.4220e-02, -4.0870e-02, -4.2695e-02]],\n",
      "\n",
      "         [[ 3.9065e-02, -1.1537e-01, -9.1796e-02],\n",
      "          [-1.6966e-01,  3.7658e-02, -1.9156e-01],\n",
      "          [-1.5421e-01,  1.7270e-02, -1.4932e-01]],\n",
      "\n",
      "         [[-7.5530e-02,  1.6474e-01, -1.7012e-01],\n",
      "          [-4.7551e-02,  5.8299e-02, -1.3839e-01],\n",
      "          [ 1.1973e-01, -3.4726e-03, -9.5548e-02]]],\n",
      "\n",
      "\n",
      "        [[[-1.5460e-01, -4.2103e-02, -5.3657e-02],\n",
      "          [-1.3357e-01,  1.5887e-01,  8.0727e-02],\n",
      "          [ 9.6700e-03,  7.4389e-02, -1.6396e-01]],\n",
      "\n",
      "         [[ 3.8323e-02, -1.4679e-01, -1.0750e-01],\n",
      "          [ 1.6231e-01, -6.2294e-03,  1.8800e-01],\n",
      "          [ 1.1274e-01,  1.0908e-01, -5.4605e-02]],\n",
      "\n",
      "         [[-8.2970e-02,  1.4296e-01,  3.4013e-02],\n",
      "          [ 1.8389e-01, -1.0119e-01, -1.6243e-01],\n",
      "          [ 9.4636e-02,  7.2986e-03,  7.6906e-02]]],\n",
      "\n",
      "\n",
      "        [[[ 1.4929e-01, -7.9054e-02, -3.8575e-02],\n",
      "          [-3.9153e-02, -1.6676e-02, -5.3245e-03],\n",
      "          [ 1.2651e-01, -7.2956e-02, -1.8498e-01]],\n",
      "\n",
      "         [[-1.7146e-02,  8.8380e-03, -1.6942e-01],\n",
      "          [-7.3417e-02, -1.4425e-01, -3.6329e-02],\n",
      "          [-1.9951e-02, -1.1193e-01,  1.6951e-01]],\n",
      "\n",
      "         [[-4.9151e-02,  1.6935e-01,  4.3130e-02],\n",
      "          [ 5.2041e-02,  6.9303e-02,  1.1273e-01],\n",
      "          [ 1.9310e-02,  4.8845e-02,  4.5847e-02]]],\n",
      "\n",
      "\n",
      "        [[[-1.2693e-01,  8.9826e-02, -3.1321e-02],\n",
      "          [ 1.0963e-01,  2.7259e-02, -1.1315e-01],\n",
      "          [ 9.9743e-02,  1.2031e-03,  7.3804e-02]],\n",
      "\n",
      "         [[ 1.9192e-02,  8.0933e-02,  1.4055e-01],\n",
      "          [-6.3038e-02,  1.7096e-01, -1.6241e-02],\n",
      "          [ 4.7079e-02, -8.5106e-03, -1.7303e-01]],\n",
      "\n",
      "         [[ 1.2540e-01, -9.3497e-02,  5.7577e-02],\n",
      "          [-3.5201e-02,  1.8707e-01,  9.7350e-02],\n",
      "          [ 6.2369e-02, -1.3869e-02, -1.8804e-01]]],\n",
      "\n",
      "\n",
      "        [[[-1.3277e-02, -1.1099e-01, -1.7519e-01],\n",
      "          [-1.8572e-01, -7.5816e-03,  2.4967e-02],\n",
      "          [ 1.0118e-01,  1.1383e-01,  3.4408e-02]],\n",
      "\n",
      "         [[-9.8540e-02,  1.6351e-01, -9.0742e-02],\n",
      "          [-1.7023e-01, -1.7705e-01,  8.4066e-02],\n",
      "          [ 6.2832e-02,  1.3475e-01, -4.9225e-02]],\n",
      "\n",
      "         [[ 1.5462e-01, -1.8086e-02, -1.3751e-02],\n",
      "          [ 1.6125e-01,  6.1459e-02,  1.1090e-01],\n",
      "          [ 1.6832e-01, -7.1433e-02,  7.6941e-02]]]], requires_grad=True)\n",
      "------------------------------\n",
      "Conv2d(3, 16, kernel_size=(3, 3), stride=(1, 1))\n",
      "Parameter containing:\n",
      "tensor([-0.1479,  0.0054,  0.1075, -0.0976,  0.1086, -0.0622, -0.1091, -0.1514,\n",
      "         0.0423, -0.1072, -0.0260,  0.1579,  0.1088, -0.0554,  0.1268, -0.0674],\n",
      "       requires_grad=True)\n",
      "------------------------------\n",
      "MaxPool2d(kernel_size=2, stride=2, padding=0, dilation=1, ceil_mode=False)\n",
      "Parameter containing:\n",
      "tensor([[[[ 0.0346, -0.0649,  0.0762],\n",
      "          [-0.0505, -0.0345,  0.0380],\n",
      "          [ 0.0526, -0.0640,  0.0212]],\n",
      "\n",
      "         [[ 0.0226, -0.0256, -0.0249],\n",
      "          [ 0.0283,  0.0442,  0.0779],\n",
      "          [-0.0032, -0.0135,  0.0526]],\n",
      "\n",
      "         [[ 0.0763,  0.0640,  0.0731],\n",
      "          [ 0.0752,  0.0025,  0.0689],\n",
      "          [-0.0055,  0.0765,  0.0513]],\n",
      "\n",
      "         ...,\n",
      "\n",
      "         [[ 0.0326,  0.0055, -0.0545],\n",
      "          [-0.0079, -0.0582, -0.0518],\n",
      "          [ 0.0308, -0.0124, -0.0786]],\n",
      "\n",
      "         [[ 0.0527, -0.0672,  0.0416],\n",
      "          [ 0.0304, -0.0830,  0.0299],\n",
      "          [-0.0066, -0.0279,  0.0145]],\n",
      "\n",
      "         [[ 0.0759,  0.0740, -0.0105],\n",
      "          [-0.0146,  0.0471, -0.0068],\n",
      "          [-0.0257, -0.0097, -0.0387]]],\n",
      "\n",
      "\n",
      "        [[[ 0.0554,  0.0763, -0.0294],\n",
      "          [ 0.0660,  0.0223, -0.0471],\n",
      "          [-0.0379, -0.0057, -0.0114]],\n",
      "\n",
      "         [[-0.0758, -0.0309,  0.0265],\n",
      "          [ 0.0215,  0.0569, -0.0063],\n",
      "          [ 0.0072,  0.0639,  0.0167]],\n",
      "\n",
      "         [[-0.0746, -0.0004, -0.0112],\n",
      "          [-0.0277, -0.0092, -0.0070],\n",
      "          [-0.0273, -0.0611,  0.0760]],\n",
      "\n",
      "         ...,\n",
      "\n",
      "         [[-0.0005, -0.0345, -0.0403],\n",
      "          [ 0.0498,  0.0261,  0.0518],\n",
      "          [-0.0821, -0.0794,  0.0351]],\n",
      "\n",
      "         [[ 0.0501, -0.0564, -0.0329],\n",
      "          [-0.0417, -0.0351,  0.0477],\n",
      "          [-0.0258,  0.0766,  0.0642]],\n",
      "\n",
      "         [[-0.0087, -0.0369, -0.0407],\n",
      "          [ 0.0827, -0.0377,  0.0526],\n",
      "          [-0.0028, -0.0738,  0.0689]]],\n",
      "\n",
      "\n",
      "        [[[ 0.0298, -0.0363,  0.0050],\n",
      "          [-0.0446,  0.0369, -0.0557],\n",
      "          [-0.0435, -0.0683,  0.0135]],\n",
      "\n",
      "         [[ 0.0803, -0.0781, -0.0481],\n",
      "          [ 0.0775, -0.0056,  0.0174],\n",
      "          [ 0.0573, -0.0713,  0.0158]],\n",
      "\n",
      "         [[ 0.0213, -0.0016, -0.0435],\n",
      "          [-0.0287,  0.0361, -0.0631],\n",
      "          [ 0.0269,  0.0130, -0.0115]],\n",
      "\n",
      "         ...,\n",
      "\n",
      "         [[ 0.0405, -0.0662,  0.0232],\n",
      "          [-0.0830,  0.0758,  0.0322],\n",
      "          [ 0.0583, -0.0010,  0.0586]],\n",
      "\n",
      "         [[ 0.0325,  0.0202,  0.0041],\n",
      "          [ 0.0304, -0.0098,  0.0163],\n",
      "          [ 0.0560,  0.0299, -0.0336]],\n",
      "\n",
      "         [[ 0.0552, -0.0310, -0.0708],\n",
      "          [ 0.0446,  0.0370,  0.0694],\n",
      "          [ 0.0522, -0.0810,  0.0504]]],\n",
      "\n",
      "\n",
      "        ...,\n",
      "\n",
      "\n",
      "        [[[-0.0116, -0.0685, -0.0756],\n",
      "          [ 0.0133, -0.0048, -0.0032],\n",
      "          [ 0.0293, -0.0128,  0.0143]],\n",
      "\n",
      "         [[ 0.0735, -0.0316,  0.0765],\n",
      "          [ 0.0598, -0.0536,  0.0167],\n",
      "          [ 0.0354, -0.0833,  0.0045]],\n",
      "\n",
      "         [[ 0.0732, -0.0509,  0.0132],\n",
      "          [-0.0318, -0.0018, -0.0153],\n",
      "          [ 0.0385,  0.0118, -0.0593]],\n",
      "\n",
      "         ...,\n",
      "\n",
      "         [[ 0.0745,  0.0624, -0.0451],\n",
      "          [-0.0615, -0.0770, -0.0270],\n",
      "          [-0.0601,  0.0114,  0.0140]],\n",
      "\n",
      "         [[-0.0253,  0.0720,  0.0542],\n",
      "          [-0.0519,  0.0738, -0.0183],\n",
      "          [-0.0041, -0.0302, -0.0417]],\n",
      "\n",
      "         [[ 0.0716, -0.0326, -0.0274],\n",
      "          [ 0.0155, -0.0736,  0.0361],\n",
      "          [ 0.0458, -0.0489, -0.0414]]],\n",
      "\n",
      "\n",
      "        [[[ 0.0536,  0.0666, -0.0231],\n",
      "          [-0.0469, -0.0364, -0.0173],\n",
      "          [ 0.0103,  0.0753, -0.0572]],\n",
      "\n",
      "         [[-0.0477,  0.0470, -0.0218],\n",
      "          [-0.0789,  0.0117, -0.0344],\n",
      "          [-0.0799,  0.0762,  0.0483]],\n",
      "\n",
      "         [[ 0.0710, -0.0766, -0.0230],\n",
      "          [-0.0523, -0.0363,  0.0669],\n",
      "          [ 0.0171,  0.0589,  0.0146]],\n",
      "\n",
      "         ...,\n",
      "\n",
      "         [[-0.0423, -0.0531,  0.0567],\n",
      "          [ 0.0449, -0.0019, -0.0304],\n",
      "          [-0.0709, -0.0402,  0.0518]],\n",
      "\n",
      "         [[ 0.0242,  0.0313,  0.0690],\n",
      "          [-0.0435,  0.0065,  0.0486],\n",
      "          [-0.0174,  0.0015, -0.0433]],\n",
      "\n",
      "         [[-0.0053, -0.0821,  0.0382],\n",
      "          [-0.0370,  0.0279, -0.0037],\n",
      "          [-0.0274, -0.0229,  0.0029]]],\n",
      "\n",
      "\n",
      "        [[[-0.0035, -0.0349,  0.0214],\n",
      "          [ 0.0117, -0.0674, -0.0520],\n",
      "          [-0.0296, -0.0044,  0.0472]],\n",
      "\n",
      "         [[ 0.0296,  0.0790, -0.0080],\n",
      "          [-0.0250,  0.0130,  0.0310],\n",
      "          [ 0.0317,  0.0155, -0.0589]],\n",
      "\n",
      "         [[ 0.0410,  0.0194,  0.0145],\n",
      "          [-0.0598,  0.0694, -0.0174],\n",
      "          [ 0.0029, -0.0501,  0.0746]],\n",
      "\n",
      "         ...,\n",
      "\n",
      "         [[ 0.0548,  0.0142, -0.0713],\n",
      "          [-0.0095, -0.0506,  0.0825],\n",
      "          [ 0.0576, -0.0338,  0.0016]],\n",
      "\n",
      "         [[-0.0703,  0.0054,  0.0636],\n",
      "          [ 0.0757, -0.0103, -0.0828],\n",
      "          [ 0.0431,  0.0696,  0.0464]],\n",
      "\n",
      "         [[-0.0115, -0.0267, -0.0814],\n",
      "          [ 0.0233, -0.0624,  0.0699],\n",
      "          [ 0.0560, -0.0240,  0.0292]]]], requires_grad=True)\n",
      "------------------------------\n",
      "Conv2d(16, 8, kernel_size=(3, 3), stride=(1, 1))\n",
      "Parameter containing:\n",
      "tensor([ 0.0767,  0.0698,  0.0420,  0.0255, -0.0530, -0.0304,  0.0678,  0.0440],\n",
      "       requires_grad=True)\n",
      "------------------------------\n",
      "Linear(in_features=23328, out_features=120, bias=True)\n",
      "Parameter containing:\n",
      "tensor([[-4.8948e-04, -1.6072e-03,  3.0964e-03,  ..., -6.0662e-04,\n",
      "          3.3879e-04,  8.3473e-04],\n",
      "        [-2.4235e-04,  1.5010e-03, -6.2119e-03,  ...,  5.1242e-03,\n",
      "         -4.8506e-03, -5.9201e-03],\n",
      "        [-5.2042e-03, -3.9281e-03,  6.0526e-03,  ..., -8.1527e-04,\n",
      "         -5.7743e-03,  3.5797e-03],\n",
      "        ...,\n",
      "        [ 1.5541e-03, -7.2573e-04, -5.3122e-03,  ..., -1.3776e-04,\n",
      "         -2.8848e-03,  3.6965e-03],\n",
      "        [ 3.8788e-03, -3.7378e-03, -2.9504e-03,  ..., -2.4758e-03,\n",
      "         -1.0757e-03,  6.5268e-04],\n",
      "        [-9.6133e-05,  4.4529e-03, -1.1475e-03,  ...,  1.8653e-04,\n",
      "         -4.1055e-03,  4.5378e-03]], requires_grad=True)\n",
      "------------------------------\n",
      "Linear(in_features=120, out_features=60, bias=True)\n",
      "Parameter containing:\n",
      "tensor([-5.6299e-03,  6.4167e-03,  1.8593e-03,  5.0072e-03,  1.4387e-03,\n",
      "        -1.7287e-04, -4.0451e-03,  4.1137e-03,  8.2873e-04, -5.1634e-03,\n",
      "        -5.3653e-03, -6.1064e-04, -4.4616e-03, -1.9062e-03, -7.2754e-04,\n",
      "        -2.0323e-03,  1.0620e-03,  1.4071e-03, -6.5033e-03,  8.0790e-04,\n",
      "        -2.2326e-03,  8.6699e-04,  5.3960e-03,  4.7044e-05,  4.9941e-03,\n",
      "         4.7351e-03, -5.0506e-03, -5.7586e-03,  4.8933e-03,  4.7958e-03,\n",
      "         3.2214e-03,  1.2649e-03, -6.8207e-04, -4.0224e-03,  4.6393e-03,\n",
      "         1.1442e-03, -8.7093e-04,  4.8243e-04,  4.1367e-03,  9.5238e-04,\n",
      "        -2.7007e-03, -9.5340e-04, -4.0471e-03,  3.4871e-04,  3.9488e-03,\n",
      "         3.8988e-04,  2.7536e-03,  3.2844e-03,  1.4015e-03,  4.8616e-03,\n",
      "         1.4172e-03, -2.4287e-05, -4.9256e-03,  4.1109e-03,  9.7333e-04,\n",
      "         3.9542e-03,  5.7532e-04,  3.7187e-03, -6.2905e-03, -7.5830e-04,\n",
      "         3.8222e-03,  5.4290e-03,  6.2951e-03, -2.4061e-03,  4.5577e-05,\n",
      "        -3.2172e-03,  4.8394e-03,  3.2069e-03, -3.9665e-03,  3.1541e-03,\n",
      "        -2.6110e-03, -2.3554e-03, -2.7634e-03,  3.9169e-03,  4.5033e-03,\n",
      "        -6.0226e-03,  2.1561e-03, -2.9918e-04,  1.0309e-03,  8.4103e-05,\n",
      "        -2.5174e-03,  4.1785e-03, -3.4176e-03, -4.0261e-03, -1.4615e-03,\n",
      "        -1.3436e-04,  4.8384e-03, -3.6570e-03,  5.2908e-03,  2.8751e-03,\n",
      "         2.8642e-03,  5.5168e-03, -7.7516e-04,  2.6166e-04, -1.5816e-03,\n",
      "         1.6787e-04, -1.1209e-03, -1.3568e-03,  5.0137e-03, -5.5301e-03,\n",
      "         5.9985e-05, -5.8674e-03, -6.2037e-03, -3.4794e-03,  1.5870e-03,\n",
      "         2.0353e-03,  2.6283e-03,  1.2629e-03,  6.3092e-03,  5.9633e-04,\n",
      "        -4.3137e-03, -1.7585e-03, -3.6458e-04,  3.4398e-04,  3.7062e-03,\n",
      "         1.2619e-03,  4.0381e-04, -3.4045e-03,  1.6597e-03, -3.9203e-03],\n",
      "       requires_grad=True)\n",
      "------------------------------\n",
      "Linear(in_features=60, out_features=2, bias=True)\n",
      "Parameter containing:\n",
      "tensor([[ 0.0282,  0.0656,  0.0359,  ...,  0.0090, -0.0729, -0.0386],\n",
      "        [-0.0664,  0.0124,  0.0467,  ..., -0.0064, -0.0520,  0.0432],\n",
      "        [-0.0059,  0.0703, -0.0387,  ..., -0.0903, -0.0063,  0.0709],\n",
      "        ...,\n",
      "        [-0.0164,  0.0382, -0.0910,  ..., -0.0443, -0.0649,  0.0846],\n",
      "        [-0.0255,  0.0214,  0.0118,  ..., -0.0889, -0.0268,  0.0829],\n",
      "        [ 0.0280,  0.0819,  0.0374,  ..., -0.0329,  0.0767,  0.0723]],\n",
      "       requires_grad=True)\n",
      "------------------------------\n"
     ]
    }
   ],
   "source": [
    "params = [param for param in model.parameters()]\n",
    "names = [name for name in model.modules()]\n",
    "\n",
    "for name, param in zip(names, params):\n",
    "    print(name)\n",
    "    print(param)\n",
    "    print('-'*30)"
   ]
  },
  {
   "cell_type": "code",
   "execution_count": 11,
   "id": "b6558ab6",
   "metadata": {},
   "outputs": [
    {
     "data": {
      "text/plain": [
       "tensor([[-0.0083,  0.0859]], grad_fn=<AddmmBackward0>)"
      ]
     },
     "execution_count": 11,
     "metadata": {},
     "output_type": "execute_result"
    }
   ],
   "source": [
    "test_result = model.forward(train_set.__getitem__(0)['image'])\n",
    "test_result"
   ]
  },
  {
   "cell_type": "code",
   "execution_count": 12,
   "id": "5c14bf83",
   "metadata": {},
   "outputs": [],
   "source": [
    "# importing accuracy metric functions\n",
    "from sklearn.metrics import accuracy_score, f1_score, precision_score, recall_score"
   ]
  },
  {
   "cell_type": "code",
   "execution_count": null,
   "id": "b4e94576",
   "metadata": {},
   "outputs": [],
   "source": [
    "# validation fn\n",
    "\n",
    "def dev(model, val_loader):\n",
    "    model.to(device)\n",
    "    batch_size = val_loader.batch_size\n",
    "    avg = 'macro' # used when computing certain accuracy metrics\n",
    "    model.eval()\n",
    "\n",
    "    eval_loss = 0\n",
    "\n",
    "    all_preds = []\n",
    "    all_trues = []\n",
    "\n",
    "    with torch.no_grad():\n",
    "        for b, batch in tqdm.tqdm(enumerate(val_loader), \n",
    "                             total= len(val_loader), desc=f\"Processing validation data\"):\n",
    "            images = batch['image'].to(device)\n",
    "            labels = batch['label'].to(device)\n",
    "\n",
    "            raw_logits = model.forward(images)\n",
    "\n",
    "            preds = torch.argmax(raw_logits, dim=1) # https://discuss.pytorch.org/t/cross-entropy-loss-get-predicted-class/58215\n",
    "\n",
    "            loss = nn.CrossEntropyLoss()(raw_logits, labels)\n",
    "\n",
    "            eval_loss += loss.item()\n",
    "\n",
    "            all_preds.extend(preds.tolist())\n",
    "            all_trues.extend(labels.tolist())\n",
    "\n",
    "\n",
    "        # metrics \n",
    "        acc_total = accuracy_score(y_true=all_trues, y_pred=all_preds)\n",
    "        precision = precision_score(y_true=all_trues, y_pred=all_preds, zero_division=1, average=avg)\n",
    "        recall = recall_score(y_true=all_trues, y_pred=all_preds, zero_division=1, average=avg)\n",
    "        f1 = f1_score(y_true=all_trues, y_pred=all_preds, zero_division=1, average=avg)\n",
    "\n",
    "        avg_eval_loss = eval_loss / (len(val_loader)*batch_size)\n",
    "\n",
    "        metrics = {\n",
    "            'accuracy': acc_total, \n",
    "            'precision': precision, \n",
    "            'recall': recall, \n",
    "            'f1': f1, \n",
    "            'avg_eval_loss': avg_eval_loss\n",
    "        }\n",
    "        wandb.log(metrics)\n",
    "        print('****Evaluation****')\n",
    "        print(f'total_accuracy: {acc_total}')\n",
    "\n",
    "        return acc_total\n"
   ]
  },
  {
   "cell_type": "code",
   "execution_count": 32,
   "id": "9d2d511a",
   "metadata": {},
   "outputs": [
    {
     "name": "stdout",
     "output_type": "stream",
     "text": [
      "Using device cuda\n"
     ]
    }
   ],
   "source": [
    "# training hyperparameters & functions/tools\n",
    "lr = .001 \n",
    "num_epochs = 500\n",
    "run_name = 'Basic CNN test'\n",
    "device = torch.device('cuda' if torch.cuda.is_available() else 'cpu')\n",
    "print(f'Using device {device}')\n",
    "\n",
    "best_val_acc = 0.0\n",
    "optimizer = torch.optim.Adam(model.parameters(), lr=lr) #stocastic gradient descent for our optimization algorithm\n"
   ]
  },
  {
   "cell_type": "code",
   "execution_count": 33,
   "id": "1ec11330",
   "metadata": {},
   "outputs": [
    {
     "data": {
      "text/html": [
       "Finishing previous runs because reinit is set to 'default'."
      ],
      "text/plain": [
       "<IPython.core.display.HTML object>"
      ]
     },
     "metadata": {},
     "output_type": "display_data"
    },
    {
     "data": {
      "text/html": [],
      "text/plain": [
       "<IPython.core.display.HTML object>"
      ]
     },
     "metadata": {},
     "output_type": "display_data"
    },
    {
     "data": {
      "text/html": [
       "<br>    <style><br>        .wandb-row {<br>            display: flex;<br>            flex-direction: row;<br>            flex-wrap: wrap;<br>            justify-content: flex-start;<br>            width: 100%;<br>        }<br>        .wandb-col {<br>            display: flex;<br>            flex-direction: column;<br>            flex-basis: 100%;<br>            flex: 1;<br>            padding: 10px;<br>        }<br>    </style><br><div class=\"wandb-row\"><div class=\"wandb-col\"><h3>Run history:</h3><br/><table class=\"wandb\"><tr><td>Train Loss</td><td>▁▅▆█▇▃</td></tr><tr><td>epoch</td><td>▁</td></tr></table><br/></div><div class=\"wandb-col\"><h3>Run summary:</h3><br/><table class=\"wandb\"><tr><td>Train Loss</td><td>0.54165</td></tr><tr><td>epoch</td><td>1</td></tr></table><br/></div></div>"
      ],
      "text/plain": [
       "<IPython.core.display.HTML object>"
      ]
     },
     "metadata": {},
     "output_type": "display_data"
    },
    {
     "data": {
      "text/html": [
       " View run <strong style=\"color:#cdcd00\">Basic CNN test</strong> at: <a href='https://wandb.ai/agafiabschool-stephen-f-austin-state-university/Research%20Project%20for%20CSCI-1465/runs/706cvu8o' target=\"_blank\">https://wandb.ai/agafiabschool-stephen-f-austin-state-university/Research%20Project%20for%20CSCI-1465/runs/706cvu8o</a><br> View project at: <a href='https://wandb.ai/agafiabschool-stephen-f-austin-state-university/Research%20Project%20for%20CSCI-1465' target=\"_blank\">https://wandb.ai/agafiabschool-stephen-f-austin-state-university/Research%20Project%20for%20CSCI-1465</a><br>Synced 5 W&B file(s), 0 media file(s), 0 artifact file(s) and 0 other file(s)"
      ],
      "text/plain": [
       "<IPython.core.display.HTML object>"
      ]
     },
     "metadata": {},
     "output_type": "display_data"
    },
    {
     "data": {
      "text/html": [
       "Find logs at: <code>.\\wandb\\run-20250424_221906-706cvu8o\\logs</code>"
      ],
      "text/plain": [
       "<IPython.core.display.HTML object>"
      ]
     },
     "metadata": {},
     "output_type": "display_data"
    },
    {
     "data": {
      "text/html": [
       "Tracking run with wandb version 0.19.10"
      ],
      "text/plain": [
       "<IPython.core.display.HTML object>"
      ]
     },
     "metadata": {},
     "output_type": "display_data"
    },
    {
     "data": {
      "text/html": [
       "Run data is saved locally in <code>C:\\Users\\bowdenaa\\wandb\\run-20250424_222039-gwz7w67h</code>"
      ],
      "text/plain": [
       "<IPython.core.display.HTML object>"
      ]
     },
     "metadata": {},
     "output_type": "display_data"
    },
    {
     "data": {
      "text/html": [
       "Syncing run <strong><a href='https://wandb.ai/agafiabschool-stephen-f-austin-state-university/Research%20Project%20for%20CSCI-1465/runs/gwz7w67h' target=\"_blank\">Basic CNN test</a></strong> to <a href='https://wandb.ai/agafiabschool-stephen-f-austin-state-university/Research%20Project%20for%20CSCI-1465' target=\"_blank\">Weights & Biases</a> (<a href='https://wandb.me/developer-guide' target=\"_blank\">docs</a>)<br>"
      ],
      "text/plain": [
       "<IPython.core.display.HTML object>"
      ]
     },
     "metadata": {},
     "output_type": "display_data"
    },
    {
     "data": {
      "text/html": [
       " View project at <a href='https://wandb.ai/agafiabschool-stephen-f-austin-state-university/Research%20Project%20for%20CSCI-1465' target=\"_blank\">https://wandb.ai/agafiabschool-stephen-f-austin-state-university/Research%20Project%20for%20CSCI-1465</a>"
      ],
      "text/plain": [
       "<IPython.core.display.HTML object>"
      ]
     },
     "metadata": {},
     "output_type": "display_data"
    },
    {
     "data": {
      "text/html": [
       " View run at <a href='https://wandb.ai/agafiabschool-stephen-f-austin-state-university/Research%20Project%20for%20CSCI-1465/runs/gwz7w67h' target=\"_blank\">https://wandb.ai/agafiabschool-stephen-f-austin-state-university/Research%20Project%20for%20CSCI-1465/runs/gwz7w67h</a>"
      ],
      "text/plain": [
       "<IPython.core.display.HTML object>"
      ]
     },
     "metadata": {},
     "output_type": "display_data"
    }
   ],
   "source": [
    "# before training, set up wandb for tracking purposes\n",
    "os.environ[\"WANDB_API_KEY\"] = \"5a08d1ebbf0e86ab877a128b98be3c320301b6a0\"\n",
    "\n",
    "run = wandb.init(\n",
    "    # Set the wandb entity where your project will be logged (generally your team name).\n",
    "    entity=\"agafiabschool-stephen-f-austin-state-university\",\n",
    "    # Set the wandb project where this run will be logged.\n",
    "    project=\"Research Project for CSCI-1465\",\n",
    "    # Track hyperparameters and run metadata.\n",
    "    config={\n",
    "        \"learning_rate\": lr,\n",
    "        \"architecture\": \"Basic CNN\",\n",
    "        \"dataset\": \"CrisisMMD\",\n",
    "        \"epochs\": num_epochs,\n",
    "    }, name=run_name\n",
    ")"
   ]
  },
  {
   "cell_type": "code",
   "execution_count": 34,
   "id": "a0576a73",
   "metadata": {},
   "outputs": [
    {
     "name": "stdout",
     "output_type": "stream",
     "text": [
      "Epoch 1\n"
     ]
    },
    {
     "name": "stderr",
     "output_type": "stream",
     "text": [
      "Processing training data in epoch 1: 100%|██████████| 6/6 [00:01<00:00,  4.26it/s]\n",
      "Processing validation data: 100%|██████████| 1/1 [00:00<00:00, 14.35it/s]\n"
     ]
    },
    {
     "ename": "AttributeError",
     "evalue": "'list' object has no attribute 'cpu'",
     "output_type": "error",
     "traceback": [
      "\u001b[1;31m---------------------------------------------------------------------------\u001b[0m",
      "\u001b[1;31mAttributeError\u001b[0m                            Traceback (most recent call last)",
      "Cell \u001b[1;32mIn[34], line 37\u001b[0m\n\u001b[0;32m     34\u001b[0m         \u001b[38;5;28mprint\u001b[39m(\u001b[38;5;124mf\u001b[39m\u001b[38;5;124m'\u001b[39m\u001b[38;5;124mbatch: \u001b[39m\u001b[38;5;132;01m{\u001b[39;00mb\u001b[38;5;241m+\u001b[39m\u001b[38;5;241m1\u001b[39m\u001b[38;5;132;01m}\u001b[39;00m\u001b[38;5;124m ; loss: \u001b[39m\u001b[38;5;132;01m{\u001b[39;00mloss\u001b[38;5;241m.\u001b[39mitem()\u001b[38;5;132;01m}\u001b[39;00m\u001b[38;5;124m'\u001b[39m)\n\u001b[0;32m     36\u001b[0m \u001b[38;5;66;03m# each epoch, run validation\u001b[39;00m\n\u001b[1;32m---> 37\u001b[0m acc \u001b[38;5;241m=\u001b[39m dev(model\u001b[38;5;241m=\u001b[39mmodel, val_loader\u001b[38;5;241m=\u001b[39mval_loader)\n\u001b[0;32m     39\u001b[0m \u001b[38;5;28;01mif\u001b[39;00m acc \u001b[38;5;241m>\u001b[39m best_val_acc:\n\u001b[0;32m     40\u001b[0m     best_val_acc \u001b[38;5;241m=\u001b[39m acc\n",
      "Cell \u001b[1;32mIn[30], line 33\u001b[0m, in \u001b[0;36mdev\u001b[1;34m(model, val_loader)\u001b[0m\n\u001b[0;32m     29\u001b[0m     all_trues\u001b[38;5;241m.\u001b[39mextend(labels)\n\u001b[0;32m     32\u001b[0m \u001b[38;5;66;03m# metrics \u001b[39;00m\n\u001b[1;32m---> 33\u001b[0m acc_total \u001b[38;5;241m=\u001b[39m accuracy_score(y_true\u001b[38;5;241m=\u001b[39mall_trues\u001b[38;5;241m.\u001b[39mcpu(), y_pred\u001b[38;5;241m=\u001b[39mall_preds\u001b[38;5;241m.\u001b[39mcpu())\n\u001b[0;32m     34\u001b[0m precision \u001b[38;5;241m=\u001b[39m precision_score(y_true\u001b[38;5;241m=\u001b[39mall_trues\u001b[38;5;241m.\u001b[39mcpu(), y_pred\u001b[38;5;241m=\u001b[39mall_preds\u001b[38;5;241m.\u001b[39mcpu(), zero_division\u001b[38;5;241m=\u001b[39m\u001b[38;5;241m1\u001b[39m, average\u001b[38;5;241m=\u001b[39mavg)\n\u001b[0;32m     35\u001b[0m recall \u001b[38;5;241m=\u001b[39m recall_score(y_true\u001b[38;5;241m=\u001b[39mall_trues\u001b[38;5;241m.\u001b[39mcpu(), y_pred\u001b[38;5;241m=\u001b[39mall_preds\u001b[38;5;241m.\u001b[39mcpu(), zero_division\u001b[38;5;241m=\u001b[39m\u001b[38;5;241m1\u001b[39m, average\u001b[38;5;241m=\u001b[39mavg)\n",
      "\u001b[1;31mAttributeError\u001b[0m: 'list' object has no attribute 'cpu'"
     ]
    }
   ],
   "source": [
    "# time to train\n",
    "model.to(device)\n",
    "os.chdir(home)\n",
    "Path(research_dir, 'models' ).mkdir(parents=True, exist_ok=True)\n",
    "\n",
    "for epoch in range(num_epochs):\n",
    "    print(f'Epoch {epoch+1}')\n",
    "    wandb.log({'epoch': epoch+1})\n",
    "\n",
    "    loss = 0\n",
    "\n",
    "    for b, batch in tqdm.tqdm(enumerate(train_loader), \n",
    "                         total= len(train_loader), desc=f\"Processing training data in epoch {epoch+1}\"):\n",
    "        model.train()\n",
    "        images = batch['image'].to(device)\n",
    "        labels = batch['label'].to(device)\n",
    "\n",
    "        model.zero_grad() \n",
    "        optimizer.zero_grad()\n",
    "\n",
    "        # forward pass\n",
    "        raw_logits = model.forward(images)\n",
    "        # loss - can use raw logits for this function b/c it applies LogSoftmax \n",
    "        loss = nn.CrossEntropyLoss()(raw_logits, labels)\n",
    "\n",
    "        wandb.log({'Train Loss': loss.item()})\n",
    "\n",
    "        # backprop!\n",
    "        loss.backward()\n",
    "\n",
    "        optimizer.step()\n",
    "\n",
    "        if (b+1) % 10 == 0:\n",
    "            print(f'batch: {b+1} ; loss: {loss.item()}')\n",
    "    \n",
    "    # each epoch, run validation\n",
    "    acc = dev(model=model, val_loader=val_loader)\n",
    "    \n",
    "    if acc > best_val_acc:\n",
    "        best_val_acc = acc\n",
    "        torch.save(model, Path(research_dir / 'models', {run_name}))\n",
    "    \n",
    "\n",
    "\n"
   ]
  },
  {
   "cell_type": "code",
   "execution_count": null,
   "id": "ee9f3edf",
   "metadata": {},
   "outputs": [],
   "source": [
    "loaded_model_dict = torch.load(PATH)"
   ]
  },
  {
   "cell_type": "code",
   "execution_count": null,
   "id": "d22520b5",
   "metadata": {},
   "outputs": [],
   "source": [
    "loaded_model_dict.keys()"
   ]
  },
  {
   "cell_type": "code",
   "execution_count": null,
   "id": "f54110eb",
   "metadata": {},
   "outputs": [],
   "source": [
    "loaded_model = ConvNet().load_state_dict(state_dict=loaded_model_dict)"
   ]
  },
  {
   "cell_type": "code",
   "execution_count": null,
   "id": "9f6eb319",
   "metadata": {},
   "outputs": [],
   "source": []
  }
 ],
 "metadata": {
  "kernelspec": {
   "display_name": "data_sci",
   "language": "python",
   "name": "python3"
  },
  "language_info": {
   "codemirror_mode": {
    "name": "ipython",
    "version": 3
   },
   "file_extension": ".py",
   "mimetype": "text/x-python",
   "name": "python",
   "nbconvert_exporter": "python",
   "pygments_lexer": "ipython3",
   "version": "3.12.3"
  }
 },
 "nbformat": 4,
 "nbformat_minor": 5
}
