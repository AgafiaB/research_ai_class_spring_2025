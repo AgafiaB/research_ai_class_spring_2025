{
 "cells": [
  {
   "cell_type": "code",
   "execution_count": 1,
   "id": "a5380838-14b9-48ed-b73f-8f76eb8d4306",
   "metadata": {},
   "outputs": [],
   "source": [
    "import torch\n",
    "import torch.nn as nn\n",
    "import torch.nn.functional as F\n",
    "import torchvision\n",
    "import torchvision.transforms as transforms\n",
    "import matplotlib.pyplot as plt\n",
    "import numpy as np"
   ]
  },
  {
   "cell_type": "code",
   "execution_count": 2,
   "id": "d1aef9ef-9a77-4a24-b4fc-0eed13740517",
   "metadata": {},
   "outputs": [],
   "source": [
    "# Hyper-parameters \n",
    "num_epochs = 5\n",
    "batch_size = 4\n",
    "learning_rate = 0.001\n",
    "device = torch.device('cuda' if torch.cuda.is_available() else 'cpu')\n"
   ]
  },
  {
   "cell_type": "code",
   "execution_count": 3,
   "id": "39cfef7d-21e5-412b-973d-59094d302076",
   "metadata": {},
   "outputs": [],
   "source": [
    "#Transform data to Tensors of normalized range [-1, 1]\n",
    "transform = transforms.Compose(\n",
    "    [transforms.ToTensor(),\n",
    "     transforms.Normalize((0.5, 0.5, 0.5), (0.5, 0.5, 0.5))])\n"
   ]
  },
  {
   "cell_type": "code",
   "execution_count": null,
   "id": "96459a7d-ba80-4a30-af24-6f7702c1c66a",
   "metadata": {},
   "outputs": [],
   "source": [
    "#Data, put in data after .datasets.\n",
    "train_dataset = torchvision.datasets.\"put data here\"(root='./data', train=True,\n",
    "                                        download=True, transform=transform)\n",
    "\n",
    "test_dataset = torchvision.datasets.\"put data here\"(root='./data', train=False,\n",
    "                                       download=True, transform=transform)\n",
    "\n",
    "train_loader = torch.utils.data.DataLoader(train_dataset, batch_size=batch_size,\n",
    "                                          shuffle=True)\n",
    "\n",
    "test_loader = torch.utils.data.DataLoader(test_dataset, batch_size=batch_size,\n",
    "                                         shuffle=False)"
   ]
  },
  {
   "cell_type": "code",
   "execution_count": 4,
   "id": "4adc139d-1c5f-45df-909b-a35a4c45d5e1",
   "metadata": {},
   "outputs": [],
   "source": [
    "task_1_labels = ('Informative','Not Informative', 'Don’t know or can’t judge')\n",
    "task_2_labels = ('Infrastructure and utility damage', 'Vehicle damage', 'Rescue, volunteering, or donation effort',\n",
    "                 'Injured or dead people', 'Affected individuals', 'Missing or found people', 'Other relevant information',\n",
    "                 'Not relevant or can’t judge')\n",
    "task_3_labels = ('Severe building damage', 'Severe bridge damage', 'Severe road damage',\n",
    "                 'Mild building damage', 'Mild bridge damage', 'Mild road damage',\n",
    "                 'Little or no damage', 'Dont know or cant judge')\n",
    "                 "
   ]
  },
  {
   "cell_type": "code",
   "execution_count": 5,
   "id": "6fe99d2a-b373-4258-b532-45af71922cc6",
   "metadata": {},
   "outputs": [],
   "source": [
    "def imshow(img): #SHow the image function if we want to pull a specific image\n",
    "    img = img / 2 + 0.5  # unnormalize\n",
    "    npimg = img.numpy()\n",
    "    plt.imshow(np.transpose(npimg, (1, 2, 0)))\n",
    "    plt.show()"
   ]
  },
  {
   "cell_type": "code",
   "execution_count": 6,
   "id": "1c9108d0-6d99-4f5b-8a68-0ccb13cbed8b",
   "metadata": {},
   "outputs": [],
   "source": [
    "#Define the convnet (Eventually replae with mobile 2)\n",
    "class ConvNet(nn.Module):\n",
    "    def __init__(self):\n",
    "        super(ConvNet, self).__init__()\n",
    "        self.conv1 = nn.Conv2d(3, 16, 3) #specify the size (outer numbers) and amount (middle number) of filters\n",
    "        self.pool = nn.MaxPool2d(2, 2) #specify pool size first number is size of pool, second is step size\n",
    "        self.conv2 = nn.Conv2d(16, 8, 3) #new depth is amount of filters in previous conv layer\n",
    "        self.fc1 = nn.Linear(224*224*8, 120)\n",
    "        self.fc2 = nn.Linear(120, 60)\n",
    "        self.fc3 = nn.Linear(60, 3) #finial fc layer needs 19 outputs because we have 19 layers\n",
    "\n",
    "    def forward(self, x):\n",
    "        x = self.pool(F.relu(self.conv1(x)))  #convolve, relu, pool\n",
    "        x = self.pool(F.relu(self.conv2(x)))  #convolve, relu, pool\n",
    "        x = x.view(-1,224*224*8)   #flatten \n",
    "        x = F.relu(self.fc1(x))    #fully connected, relu           \n",
    "        x = F.relu(self.fc2(x))    #fully connected, relu            \n",
    "        x = self.fc3(x)            #output           \n",
    "        return x\n"
   ]
  },
  {
   "cell_type": "code",
   "execution_count": 4,
   "id": "fc97c9b8-5911-40f6-a0b0-47185b7a132c",
   "metadata": {},
   "outputs": [
    {
     "ename": "NameError",
     "evalue": "name 'ConvNet' is not defined",
     "output_type": "error",
     "traceback": [
      "\u001b[31m---------------------------------------------------------------------------\u001b[39m",
      "\u001b[31mNameError\u001b[39m                                 Traceback (most recent call last)",
      "\u001b[36mCell\u001b[39m\u001b[36m \u001b[39m\u001b[32mIn[4]\u001b[39m\u001b[32m, line 2\u001b[39m\n\u001b[32m      1\u001b[39m \u001b[38;5;66;03m#Train the model\u001b[39;00m\n\u001b[32m----> \u001b[39m\u001b[32m2\u001b[39m model = \u001b[43mConvNet\u001b[49m().to(device)\n\u001b[32m      4\u001b[39m cross_entropy = nn.CrossEntropyLoss() \u001b[38;5;66;03m#cross entropy loss for our loss function\u001b[39;00m\n\u001b[32m      5\u001b[39m optimizer = torch.optim.SGD(model.parameters(), lr=learning_rate) \u001b[38;5;66;03m#stocastic gradient descent for our optimization algorithm\u001b[39;00m\n",
      "\u001b[31mNameError\u001b[39m: name 'ConvNet' is not defined"
     ]
    }
   ],
   "source": [
    "#Train the model\n",
    "model = ConvNet().to(device)\n",
    "\n",
    "cross_entropy = nn.CrossEntropyLoss() #cross entropy loss for our loss function\n",
    "optimizer = torch.optim.SGD(model.parameters(), lr=learning_rate) #stocastic gradient descent for our optimization algorithm\n",
    "\n",
    "n_total_steps = len(train_loader)\n",
    "for epoch in range(num_epochs):\n",
    "    for i, (images, labels) in enumerate(train_loader):\n",
    "        # origin shape: \n",
    "        # input_layer:\n",
    "        images = images.to(device)\n",
    "        labels = labels.to(device)\n",
    "\n",
    "        # Forward pass\n",
    "        outputs = model(images)\n",
    "        loss = cross_entropy(outputs, labels)\n",
    "\n",
    "        # Backward and optimize\n",
    "        optimizer.zero_grad() #apply optimization func\n",
    "        loss.backward() #backpropagation\n",
    "        optimizer.step() #single step updating parameters\n",
    "        \n",
    "print('Finished Training')\n",
    "PATH = './cnn.pth'\n",
    "torch.save(model.state_dict(), PATH)"
   ]
  },
  {
   "cell_type": "code",
   "execution_count": null,
   "id": "6354fa0b-cf17-4967-a589-30a917261dc5",
   "metadata": {},
   "outputs": [],
   "source": [
    "with torch.no_grad():\n",
    "    n_correct = 0\n",
    "    n_samples = 0\n",
    "    n_class_correct = [0 for i in range(10)]\n",
    "    n_class_samples = [0 for i in range(10)]\n",
    "    for images, labels in test_loader:\n",
    "        images = images.to(device)\n",
    "        labels = labels.to(device)\n",
    "        outputs = model(images)\n",
    "        # max returns (value ,index)\n",
    "        _, predicted = torch.max(outputs, 1)\n",
    "        n_samples += labels.size(0)\n",
    "        n_correct += (predicted == labels).sum().item()\n",
    "        \n",
    "        for i in range(batch_size):\n",
    "            label = labels[i]\n",
    "            pred = predicted[i]\n",
    "            if (label == pred):\n",
    "                n_class_correct[label] += 1\n",
    "            n_class_samples[label] += 1\n",
    "\n",
    "    acc = 100.0 * n_correct / n_samples\n",
    "    print(f'Accuracy of the network: {acc} %')\n",
    "\n",
    "    for i in range(10):\n",
    "        acc = 100.0 * n_class_correct[i] / n_class_samples[i]\n",
    "        print(f'Accuracy of {classes[i]}: {acc} %')"
   ]
  }
 ],
 "metadata": {
  "kernelspec": {
   "display_name": "data_sci",
   "language": "python",
   "name": "data_sci"
  },
  "language_info": {
   "codemirror_mode": {
    "name": "ipython",
    "version": 3
   },
   "file_extension": ".py",
   "mimetype": "text/x-python",
   "name": "python",
   "nbconvert_exporter": "python",
   "pygments_lexer": "ipython3",
   "version": "3.12.3"
  }
 },
 "nbformat": 4,
 "nbformat_minor": 5
}
