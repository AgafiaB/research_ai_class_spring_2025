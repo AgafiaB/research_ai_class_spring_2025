{
 "cells": [
  {
   "cell_type": "code",
   "execution_count": 8,
   "id": "8e3cbe41-ffbd-4959-aa01-cc8fb2d4ad99",
   "metadata": {},
   "outputs": [],
   "source": [
    "import mysql.connector as mysqlc\n",
    "import pandas as pd\n",
    "from pathlib import Path\n",
    "import os"
   ]
  },
  {
   "cell_type": "code",
   "execution_count": 9,
   "id": "3892e140-d54c-4a9d-b330-34a5a9447bc1",
   "metadata": {},
   "outputs": [],
   "source": [
    "home_dir = os.path.expanduser('~')\n",
    "os.chdir(home_dir)"
   ]
  },
  {
   "cell_type": "code",
   "execution_count": 10,
   "id": "13433d84-7193-43a7-bb46-6ea4fc40c554",
   "metadata": {},
   "outputs": [
    {
     "name": "stdout",
     "output_type": "stream",
     "text": [
      "success\n"
     ]
    }
   ],
   "source": [
    "host = '127.0.0.1'\n",
    "user = 'root' \n",
    "password = 'ethan1' \n",
    "database = 'ai_proj_2025'\n",
    "\n",
    "try: \n",
    "    conn = mysqlc.connect(\n",
    "        host = host,\n",
    "        user = user, \n",
    "        password = password, \n",
    "        database = database\n",
    "    )\n",
    "    print(\"success\")\n",
    "    # conn.close()\n",
    "except mysqlc.Error as err:\n",
    "    print(f\"Error {err}\")"
   ]
  },
  {
   "cell_type": "markdown",
   "id": "d77e035e",
   "metadata": {},
   "source": [
    "The following two paths will be used to access information that will be placed into the database. "
   ]
  },
  {
   "cell_type": "code",
   "execution_count": 11,
   "id": "7b955f8a-37a1-4431-a4b0-b6eee5b76bb6",
   "metadata": {},
   "outputs": [
    {
     "name": "stdout",
     "output_type": "stream",
     "text": [
      "C:\\Users\\bowdenaa\\OneDrive - Stephen F. Austin State University\\CrisisMMD_v2.0\\CrisisMMD_v2.0\\annotations\n"
     ]
    }
   ],
   "source": [
    "data_path = Path(home_dir, 'OneDrive - Stephen F. Austin State University', 'CrisisMMD_v2.0','CrisisMMD_v2.0')\n",
    "annot_path = data_path / 'annotations'\n",
    "\n",
    "print(annot_path)"
   ]
  },
  {
   "cell_type": "code",
   "execution_count": 12,
   "id": "d53be8bd-4ce8-4726-af1d-ab8e6cb91eb6",
   "metadata": {},
   "outputs": [
    {
     "name": "stdout",
     "output_type": "stream",
     "text": [
      "C:\\Users\\bowdenaa\\OneDrive - Stephen F. Austin State University\\CrisisMMD_v2.0\\CrisisMMD_v2.0\n"
     ]
    },
    {
     "data": {
      "text/plain": [
       "True"
      ]
     },
     "execution_count": 12,
     "metadata": {},
     "output_type": "execute_result"
    }
   ],
   "source": [
    "print(data_path)\n",
    "data_path.exists()"
   ]
  },
  {
   "cell_type": "code",
   "execution_count": 13,
   "id": "5131bd04-a106-4eac-95c0-1fd8c5b7c60b",
   "metadata": {},
   "outputs": [],
   "source": [
    "\n",
    "harvey_annot = pd.read_csv(annot_path / 'hurricane_harvey_final_data.tsv', sep='\\t')\n"
   ]
  },
  {
   "cell_type": "code",
   "execution_count": 14,
   "id": "15cb1d9d-51c5-4c39-ab65-9b7c035e67b2",
   "metadata": {},
   "outputs": [
    {
     "data": {
      "text/plain": [
       "84"
      ]
     },
     "execution_count": 14,
     "metadata": {},
     "output_type": "execute_result"
    }
   ],
   "source": [
    "url_max_len = harvey_annot['image_url'].apply(len).max()\n",
    "url_max_len # just seeing how many character the column in sql should be"
   ]
  },
  {
   "cell_type": "code",
   "execution_count": 15,
   "id": "cdaca25d-9d62-4d45-a5b3-ffd83eae5453",
   "metadata": {
    "scrolled": true
   },
   "outputs": [
    {
     "data": {
      "text/html": [
       "<div>\n",
       "<style scoped>\n",
       "    .dataframe tbody tr th:only-of-type {\n",
       "        vertical-align: middle;\n",
       "    }\n",
       "\n",
       "    .dataframe tbody tr th {\n",
       "        vertical-align: top;\n",
       "    }\n",
       "\n",
       "    .dataframe thead th {\n",
       "        text-align: right;\n",
       "    }\n",
       "</style>\n",
       "<table border=\"1\" class=\"dataframe\">\n",
       "  <thead>\n",
       "    <tr style=\"text-align: right;\">\n",
       "      <th></th>\n",
       "      <th>tweet_id</th>\n",
       "      <th>image_id</th>\n",
       "      <th>text_info</th>\n",
       "      <th>text_info_conf</th>\n",
       "      <th>image_info</th>\n",
       "      <th>image_info_conf</th>\n",
       "      <th>text_human</th>\n",
       "      <th>text_human_conf</th>\n",
       "      <th>image_human</th>\n",
       "      <th>image_human_conf</th>\n",
       "      <th>image_damage</th>\n",
       "      <th>image_damage_conf</th>\n",
       "      <th>tweet_text</th>\n",
       "      <th>image_url</th>\n",
       "      <th>image_path</th>\n",
       "    </tr>\n",
       "  </thead>\n",
       "  <tbody>\n",
       "    <tr>\n",
       "      <th>0</th>\n",
       "      <td>905274232590004225</td>\n",
       "      <td>901671684478029825_0</td>\n",
       "      <td>not_informative</td>\n",
       "      <td>1.0000</td>\n",
       "      <td>informative</td>\n",
       "      <td>1.0</td>\n",
       "      <td>not_humanitarian</td>\n",
       "      <td>1.0000</td>\n",
       "      <td>infrastructure_and_utility_damage</td>\n",
       "      <td>1.0</td>\n",
       "      <td>severe_damage</td>\n",
       "      <td>1.0000</td>\n",
       "      <td>CONGRATS ON HITTING YOIR GOAL GUYS, I'm sure t...</td>\n",
       "      <td>http://pbs.twimg.com/media/DINhGs8XcAE1H7q.jpg</td>\n",
       "      <td>data_image/hurricane_harvey/27_8_2017/90167168...</td>\n",
       "    </tr>\n",
       "    <tr>\n",
       "      <th>1</th>\n",
       "      <td>901646074527535105</td>\n",
       "      <td>901646074527535105_0</td>\n",
       "      <td>informative</td>\n",
       "      <td>0.6822</td>\n",
       "      <td>informative</td>\n",
       "      <td>1.0</td>\n",
       "      <td>injured_or_dead_people</td>\n",
       "      <td>0.6822</td>\n",
       "      <td>infrastructure_and_utility_damage</td>\n",
       "      <td>1.0</td>\n",
       "      <td>severe_damage</td>\n",
       "      <td>0.6728</td>\n",
       "      <td>RT @ajwamood: #ajwamood : Harvey the first maj...</td>\n",
       "      <td>http://pbs.twimg.com/media/DILxh_xWAAAfJDY.jpg</td>\n",
       "      <td>data_image/hurricane_harvey/27_8_2017/90164607...</td>\n",
       "    </tr>\n",
       "    <tr>\n",
       "      <th>2</th>\n",
       "      <td>901646074527535105</td>\n",
       "      <td>901646074527535105_1</td>\n",
       "      <td>informative</td>\n",
       "      <td>0.6822</td>\n",
       "      <td>informative</td>\n",
       "      <td>1.0</td>\n",
       "      <td>injured_or_dead_people</td>\n",
       "      <td>0.6822</td>\n",
       "      <td>infrastructure_and_utility_damage</td>\n",
       "      <td>1.0</td>\n",
       "      <td>severe_damage</td>\n",
       "      <td>1.0000</td>\n",
       "      <td>RT @ajwamood: #ajwamood : Harvey the first maj...</td>\n",
       "      <td>http://pbs.twimg.com/media/DILxiisXYAAokz_.jpg</td>\n",
       "      <td>data_image/hurricane_harvey/27_8_2017/90164607...</td>\n",
       "    </tr>\n",
       "    <tr>\n",
       "      <th>3</th>\n",
       "      <td>901646074527535105</td>\n",
       "      <td>901646074527535105_2</td>\n",
       "      <td>informative</td>\n",
       "      <td>0.6822</td>\n",
       "      <td>informative</td>\n",
       "      <td>1.0</td>\n",
       "      <td>injured_or_dead_people</td>\n",
       "      <td>0.6822</td>\n",
       "      <td>infrastructure_and_utility_damage</td>\n",
       "      <td>1.0</td>\n",
       "      <td>severe_damage</td>\n",
       "      <td>0.6528</td>\n",
       "      <td>RT @ajwamood: #ajwamood : Harvey the first maj...</td>\n",
       "      <td>http://pbs.twimg.com/media/DILxjSUWAAEIaWH.jpg</td>\n",
       "      <td>data_image/hurricane_harvey/27_8_2017/90164607...</td>\n",
       "    </tr>\n",
       "    <tr>\n",
       "      <th>4</th>\n",
       "      <td>901646074527535105</td>\n",
       "      <td>901646074527535105_3</td>\n",
       "      <td>informative</td>\n",
       "      <td>0.6822</td>\n",
       "      <td>informative</td>\n",
       "      <td>1.0</td>\n",
       "      <td>injured_or_dead_people</td>\n",
       "      <td>0.6822</td>\n",
       "      <td>infrastructure_and_utility_damage</td>\n",
       "      <td>1.0</td>\n",
       "      <td>severe_damage</td>\n",
       "      <td>0.6812</td>\n",
       "      <td>RT @ajwamood: #ajwamood : Harvey the first maj...</td>\n",
       "      <td>http://pbs.twimg.com/media/DILxkWJXgAANF-E.jpg</td>\n",
       "      <td>data_image/hurricane_harvey/27_8_2017/90164607...</td>\n",
       "    </tr>\n",
       "  </tbody>\n",
       "</table>\n",
       "</div>"
      ],
      "text/plain": [
       "             tweet_id              image_id        text_info  text_info_conf  \\\n",
       "0  905274232590004225  901671684478029825_0  not_informative          1.0000   \n",
       "1  901646074527535105  901646074527535105_0      informative          0.6822   \n",
       "2  901646074527535105  901646074527535105_1      informative          0.6822   \n",
       "3  901646074527535105  901646074527535105_2      informative          0.6822   \n",
       "4  901646074527535105  901646074527535105_3      informative          0.6822   \n",
       "\n",
       "    image_info  image_info_conf              text_human  text_human_conf  \\\n",
       "0  informative              1.0        not_humanitarian           1.0000   \n",
       "1  informative              1.0  injured_or_dead_people           0.6822   \n",
       "2  informative              1.0  injured_or_dead_people           0.6822   \n",
       "3  informative              1.0  injured_or_dead_people           0.6822   \n",
       "4  informative              1.0  injured_or_dead_people           0.6822   \n",
       "\n",
       "                         image_human  image_human_conf   image_damage  \\\n",
       "0  infrastructure_and_utility_damage               1.0  severe_damage   \n",
       "1  infrastructure_and_utility_damage               1.0  severe_damage   \n",
       "2  infrastructure_and_utility_damage               1.0  severe_damage   \n",
       "3  infrastructure_and_utility_damage               1.0  severe_damage   \n",
       "4  infrastructure_and_utility_damage               1.0  severe_damage   \n",
       "\n",
       "   image_damage_conf                                         tweet_text  \\\n",
       "0             1.0000  CONGRATS ON HITTING YOIR GOAL GUYS, I'm sure t...   \n",
       "1             0.6728  RT @ajwamood: #ajwamood : Harvey the first maj...   \n",
       "2             1.0000  RT @ajwamood: #ajwamood : Harvey the first maj...   \n",
       "3             0.6528  RT @ajwamood: #ajwamood : Harvey the first maj...   \n",
       "4             0.6812  RT @ajwamood: #ajwamood : Harvey the first maj...   \n",
       "\n",
       "                                        image_url  \\\n",
       "0  http://pbs.twimg.com/media/DINhGs8XcAE1H7q.jpg   \n",
       "1  http://pbs.twimg.com/media/DILxh_xWAAAfJDY.jpg   \n",
       "2  http://pbs.twimg.com/media/DILxiisXYAAokz_.jpg   \n",
       "3  http://pbs.twimg.com/media/DILxjSUWAAEIaWH.jpg   \n",
       "4  http://pbs.twimg.com/media/DILxkWJXgAANF-E.jpg   \n",
       "\n",
       "                                          image_path  \n",
       "0  data_image/hurricane_harvey/27_8_2017/90167168...  \n",
       "1  data_image/hurricane_harvey/27_8_2017/90164607...  \n",
       "2  data_image/hurricane_harvey/27_8_2017/90164607...  \n",
       "3  data_image/hurricane_harvey/27_8_2017/90164607...  \n",
       "4  data_image/hurricane_harvey/27_8_2017/90164607...  "
      ]
     },
     "execution_count": 15,
     "metadata": {},
     "output_type": "execute_result"
    }
   ],
   "source": [
    "harvey_annot.head()"
   ]
  },
  {
   "cell_type": "code",
   "execution_count": 16,
   "id": "74288b5f-021a-40df-b5af-3f36cdfdff1f",
   "metadata": {},
   "outputs": [],
   "source": [
    "create_text_table_query = '''\n",
    "CREATE Table Tweets(\n",
    "    tweet_id VARCHAR(50) PRIMARY KEY, \n",
    "    event VARCHAR(30), \n",
    "    text_info VARCHAR(50) NOT NULL,\n",
    "    text_info_conf DECIMAL(5,4),\n",
    "    text_human VARCHAR(50), \n",
    "    text_human_conf DECIMAL(5,4), \n",
    "    tweet_text VARCHAR(280)\n",
    ");\n",
    "'''"
   ]
  },
  {
   "cell_type": "code",
   "execution_count": 17,
   "id": "fbc3f915-be0f-4d13-900d-284bc583ed98",
   "metadata": {},
   "outputs": [],
   "source": [
    "create_image_table_query = '''\n",
    "CREATE TABLE Images (\n",
    "    idx int NOT NULL AUTO_INCREMENT PRIMARY KEY,\n",
    "    image_id VARCHAR(50) NOT NULL, \n",
    "    tweet_id VARCHAR(50),\n",
    "    FOREIGN KEY (tweet_id) REFERENCES Tweets(tweet_id),\n",
    "    image_path VARCHAR(200) NOT NULL, \n",
    "    image_info VARCHAR(50) NOT NULL, \n",
    "    image_info_conf DECIMAL(5,4), \n",
    "    image_human VARCHAR(50),\n",
    "    image_human_conf DECIMAL(5,4), \n",
    "    image_damage VARCHAR(50),\n",
    "    image_damage_conf DECIMAL(5,4), \n",
    "    image_url VARCHAR(100),\n",
    "    date DATETIME\n",
    ");\n",
    "'''"
   ]
  },
  {
   "cell_type": "code",
   "execution_count": 18,
   "id": "7292177a-56f3-4eca-aa24-3c8ed9209c14",
   "metadata": {},
   "outputs": [],
   "source": [
    "cursor = conn.cursor()"
   ]
  },
  {
   "cell_type": "code",
   "execution_count": null,
   "id": "02fd92ea",
   "metadata": {},
   "outputs": [],
   "source": []
  },
  {
   "cell_type": "markdown",
   "id": "21beab79-2641-447a-8859-7e7b81b71238",
   "metadata": {},
   "source": [
    "## Inserting into the database\n",
    "1. Access the annotations file\n",
    "2. Insert the information from the annotations folder into the database\n",
    "3. To get the event, we have to track what folder we are in because the names of the folders correspond to the event"
   ]
  },
  {
   "cell_type": "code",
   "execution_count": 19,
   "id": "06329b1c-d7c0-494b-ab28-de45f10792ca",
   "metadata": {},
   "outputs": [
    {
     "data": {
      "text/plain": [
       "['hurricane_harvey_final_data.tsv',\n",
       " 'hurricane_irma_final_data.tsv',\n",
       " 'hurricane_maria_final_data.tsv']"
      ]
     },
     "execution_count": 19,
     "metadata": {},
     "output_type": "execute_result"
    }
   ],
   "source": [
    "annotations_per_event = os.listdir(annot_path) # read all the file names in the folder\n",
    "annotations_per_event = [file_str for file_str in annotations_per_event if not file_str.startswith('._') and 'hurricane' in file_str] # the ._ files don't work for Windows OS\n",
    "annotations_per_event"
   ]
  },
  {
   "cell_type": "code",
   "execution_count": 20,
   "id": "eb1b8bb2-839d-45e4-a0f2-c59a395437f1",
   "metadata": {},
   "outputs": [],
   "source": [
    "image_dir_path = data_path / 'data_image' "
   ]
  },
  {
   "cell_type": "code",
   "execution_count": 21,
   "id": "cafa42fd-4c45-44ee-8f15-58f6e1ebff60",
   "metadata": {},
   "outputs": [
    {
     "data": {
      "text/plain": [
       "['hurricane_harvey', 'hurricane_irma', 'hurricane_maria']"
      ]
     },
     "execution_count": 21,
     "metadata": {},
     "output_type": "execute_result"
    }
   ],
   "source": [
    "image_folders = os.listdir(image_dir_path)\n",
    "image_folders = [folder for folder in image_folders if 'hurricane' in folder]\n",
    "image_folders"
   ]
  },
  {
   "cell_type": "markdown",
   "id": "a7f21a87-e046-4cc7-9f91-48cb9f9facd6",
   "metadata": {},
   "source": [
    "Because the images are organized into folders event_name => day_related_to_disaster we will need to ensure that our SQL can parse the dates so we can insert them into our database as column values. "
   ]
  },
  {
   "cell_type": "code",
   "execution_count": 22,
   "id": "8856c629-f4a7-40fa-a3b7-3416c7d5bec1",
   "metadata": {},
   "outputs": [],
   "source": [
    "# create a fn that can convert the folder name with the date into a string that sql can recognize\n",
    "def folder_to_date(folder_name):\n",
    "    return f\"STR_TO_DATE('{folder_name}', '%d_%m_%Y')\""
   ]
  },
  {
   "cell_type": "code",
   "execution_count": 23,
   "id": "6a9921ea-36e0-4e40-87aa-397b8ba1e4be",
   "metadata": {},
   "outputs": [
    {
     "data": {
      "text/plain": [
       "[(datetime.date(2017, 9, 19),)]"
      ]
     },
     "execution_count": 23,
     "metadata": {},
     "output_type": "execute_result"
    }
   ],
   "source": [
    "# testing the function out\n",
    "cursor.execute(f'SELECT {folder_to_date('19_9_2017')}')\n",
    "cursor.fetchall()"
   ]
  },
  {
   "cell_type": "markdown",
   "id": "ebaa88c0-e056-4a55-8178-9a9947f3900e",
   "metadata": {},
   "source": [
    "### Populating the Database"
   ]
  },
  {
   "cell_type": "markdown",
   "id": "bef12a4b-a8ae-410f-8532-5f76602ebc01",
   "metadata": {},
   "source": [
    "Now, we must create a function that can insert the data into our database. Let's break down what we will be inserting like so:\n",
    "\n",
    "1. From the annotations folder\n",
    "\n",
    "   This is the step where we access all information except for getting the actual image itself, which we will access in the next step using the image_path attribute we get from this step. \n",
    "   1. By event\n",
    "3. Getting the images\n",
    "   1. By event\n",
    "   2. By date "
   ]
  },
  {
   "cell_type": "code",
   "execution_count": 25,
   "id": "2da82dc2-dbe7-40ec-a97b-7e4271db95c8",
   "metadata": {},
   "outputs": [],
   "source": [
    "import re\n",
    "def populate_db():\n",
    "    for f in annotations_per_event: # annotations_per_event is the list of .tsv files we created earlier\n",
    "        path = annot_path / f\n",
    "        df = pd.read_csv(path, sep='\\t') # a tsv file in the annotations folder for a specific event\n",
    "        df = df.where(pd.notnull(df), None)\n",
    "\n",
    "        for (_, row) in df.iterrows(): # i is the idx, j is the series\n",
    "            \n",
    "            img_path = row.loc['image_path'] # will also use this to get the event name\n",
    "            date_pattern = r'(\\d{1,2}_\\d{1,2}_\\d{4})' # day month year - naming format of folders that the images are in \n",
    "            date = re.findall(date_pattern, img_path)[0]\n",
    "            \n",
    "            # # PART 2 - Inserting into the Tweets table \n",
    "            # event_pattern = r'data_image\\/(\\w+)\\/\\d{1,2}_\\d{1,2}_\\d{4}' \n",
    "            # event = re.findall(event_pattern, img_path)[0]\n",
    "            \n",
    "            # sql_text1 = \"\"\"\n",
    "            # INSERT INTO Tweets (tweet_id, event, text_info, text_info_conf, text_human, text_human_conf, tweet_text) \n",
    "            # VALUES (%s, %s, %s, %s, %s, %s, %s)\n",
    "            # \"\"\"\n",
    "            # cursor.execute(f\"SELECT * FROM Tweets WHERE tweet_id='{row.loc['tweet_id']}'\")\n",
    "            # if not cursor.fetchall():\n",
    "            #     cursor.execute(sql_text1, (\n",
    "            #         row['tweet_id'], event, row['text_info'], row['text_info_conf'], row['text_human'],\n",
    "            #         row['text_human_conf'], row['tweet_text']\n",
    "            #     ))\n",
    "            \n",
    "            # PART 1 - Inserting into the Images table\n",
    "            \n",
    "            cursor.execute(f\"SELECT * FROM Hurricane_Images WHERE image_id='{row.loc['image_id']}'\")\n",
    "            if not cursor.fetchall():\n",
    "                sql_img1 = sql_img1 = f\"\"\"\n",
    "                    INSERT INTO Hurricane_Images (image_id, tweet_id, image_path, image_info, image_info_conf, image_human, image_human_conf, image_damage, image_damage_conf, image_url, date) \n",
    "                    VALUES (%s, %s, %s, %s, %s, %s, %s, %s, %s, %s, {folder_to_date(date)})\n",
    "                    \"\"\"\n",
    "                cursor.execute(sql_img1, (\n",
    "                    row['image_id'], row['tweet_id'], row['image_path'], row['image_info'], row['image_info_conf'],\n",
    "                    row['image_human'], row['image_human_conf'], row['image_damage'], row['image_damage_conf'],\n",
    "                    row['image_url']\n",
    "                ))\n",
    "            \n",
    "\n",
    "                \n",
    "        "
   ]
  },
  {
   "cell_type": "code",
   "execution_count": 26,
   "id": "c90468a4",
   "metadata": {},
   "outputs": [],
   "source": [
    "populate_db()\n",
    "conn.commit()\n",
    "cursor.close()\n",
    "conn.close()"
   ]
  },
  {
   "cell_type": "code",
   "execution_count": 28,
   "id": "8469a4cc-06f2-4545-ab97-229fe0f9bcf2",
   "metadata": {},
   "outputs": [
    {
     "data": {
      "text/plain": [
       "'\\nCREATE Table Tweets(\\n    tweet_id int PRIMARY KEY, \\n    event VARCHAR(30), \\n    text_info VARCHAR(50) NOT NULL,\\n    text_info_conf DECIMAL(5,4),\\n    text_human VARCHAR(50), \\n    text_human_conf DECIMAL(5,4), \\n    tweet_text VARCHAR(280)\\n);\\n'"
      ]
     },
     "execution_count": 28,
     "metadata": {},
     "output_type": "execute_result"
    }
   ],
   "source": [
    "'''\n",
    "CREATE Table Tweets(\n",
    "    tweet_id int PRIMARY KEY, \n",
    "    event VARCHAR(30), \n",
    "    text_info VARCHAR(50) NOT NULL,\n",
    "    text_info_conf DECIMAL(5,4),\n",
    "    text_human VARCHAR(50), \n",
    "    text_human_conf DECIMAL(5,4), \n",
    "    tweet_text VARCHAR(280)\n",
    ");\n",
    "'''"
   ]
  },
  {
   "cell_type": "markdown",
   "id": "bed6425c",
   "metadata": {},
   "source": [
    "Make sure to close the connection once you're finished! "
   ]
  }
 ],
 "metadata": {
  "kernelspec": {
   "display_name": "torch",
   "language": "python",
   "name": "python3"
  },
  "language_info": {
   "codemirror_mode": {
    "name": "ipython",
    "version": 3
   },
   "file_extension": ".py",
   "mimetype": "text/x-python",
   "name": "python",
   "nbconvert_exporter": "python",
   "pygments_lexer": "ipython3",
   "version": "3.13.2"
  }
 },
 "nbformat": 4,
 "nbformat_minor": 5
}
