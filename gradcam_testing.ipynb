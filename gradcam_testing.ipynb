{
 "cells": [
  {
   "cell_type": "code",
   "execution_count": 1,
   "id": "aa8115fd",
   "metadata": {},
   "outputs": [],
   "source": [
    "import os\n",
    "os.environ['KMP_DUPLICATE_LIB_OK'] = 'TRUE'"
   ]
  },
  {
   "cell_type": "code",
   "execution_count": 21,
   "id": "cae2af14",
   "metadata": {},
   "outputs": [],
   "source": [
    "import torch\n",
    "import torch.nn as nn\n",
    "from model_helper import MobileNetV2, Inv2d\n",
    "import wandb\n",
    "import mysql.connector as connector\n",
    "from pathlib import Path\n",
    "import tqdm\n",
    "import torchvision\n",
    "import torch.nn.functional as F\n",
    "from torch.optim.lr_scheduler import MultiStepLR\n",
    "from torchvision.models import mobilenet_v2\n",
    "import PIL.Image as Image\n",
    "import numpy as np\n",
    "from torchvision.transforms.functional import pil_to_tensor\n",
    "\n",
    "from data_helper import compute_gradcam, overlay_heatmap\n",
    "\n",
    "from pytorch_grad_cam import GradCAM\n",
    "from pytorch_grad_cam.utils.image import show_cam_on_image, preprocess_image\n"
   ]
  },
  {
   "cell_type": "code",
   "execution_count": 3,
   "id": "eddfca9b",
   "metadata": {},
   "outputs": [
    {
     "name": "stdout",
     "output_type": "stream",
     "text": [
      "success\n"
     ]
    }
   ],
   "source": [
    "home = os.path.expanduser('~')\n",
    "os.chdir(home) # b/c we will be using universal paths\n",
    "\n",
    "host = '127.0.0.1'\n",
    "user = 'root' # change to your username\n",
    "password = 'vasya1' # change to your password\n",
    "database = 'ai_proj_2025' # we should all have this as the db name \n",
    "\n",
    "try:\n",
    "    conn = connector.connect(\n",
    "        host = host, \n",
    "        user = user, \n",
    "        password = password, \n",
    "        database = database\n",
    "    )\n",
    "    print('success')\n",
    "except connector.Error as err:\n",
    "    print(err)"
   ]
  },
  {
   "cell_type": "code",
   "execution_count": 4,
   "id": "6ed62dea",
   "metadata": {},
   "outputs": [
    {
     "name": "stdout",
     "output_type": "stream",
     "text": [
      "Using device cuda\n"
     ]
    }
   ],
   "source": [
    "device = torch.device('cuda' if torch.cuda.is_available() else 'cpu')\n",
    "print(f'Using device {device}')"
   ]
  },
  {
   "cell_type": "code",
   "execution_count": 5,
   "id": "295f7df2",
   "metadata": {},
   "outputs": [],
   "source": [
    "# research_dir = Path(home, 'Desktop', 'Education', 'Spring 2025', 'AI', 'research')\n",
    "research_dir = Path(home, \"ai_research_proj_spring_2025\", \"research_ai_class_spring_2025\") # in lab 409 computer for Agafia\n",
    "os.chdir(research_dir)\n",
    "\n",
    "from data_helper import SQLDataset_Informative\n",
    "\n",
    "os.chdir(home)"
   ]
  },
  {
   "cell_type": "code",
   "execution_count": 6,
   "id": "71aaf1b1",
   "metadata": {},
   "outputs": [],
   "source": [
    "from torchvision.transforms import v2\n",
    "\n",
    "# transforms\n",
    "transformations = v2.Compose([\n",
    "    v2.RandomResizedCrop(size=(224, 224), antialias=True), \n",
    "    v2.RandomHorizontalFlip(p=0.5),\n",
    "    v2.ToDtype(torch.float32, scale=True),\n",
    "    v2.Normalize(mean=[0.485, 0.456, 0.406], std=[0.229, 0.224, 0.225]),\n",
    "])"
   ]
  },
  {
   "cell_type": "code",
   "execution_count": 7,
   "id": "63b2c438",
   "metadata": {},
   "outputs": [],
   "source": [
    "# create train, val, and test sets\n",
    "\n",
    "data_dir=Path('OneDrive - Stephen F. Austin State University', 'CrisisMMD_v2.0','CrisisMMD_v2.0')\n",
    "\n",
    "train_set = SQLDataset_Informative(conn=conn, img_col='image_path', label_col='image_info', transform=transformations, \n",
    "                     data_dir=data_dir, is_train=True)\n",
    "val_set = SQLDataset_Informative(conn=conn, img_col='image_path', label_col='image_info', transform=transformations, \n",
    "                     data_dir=data_dir, is_val=True)\n",
    "test_set = SQLDataset_Informative(conn=conn, img_col='image_path', label_col='image_info', transform=transformations, \n",
    "                     data_dir=data_dir, is_test=True)"
   ]
  },
  {
   "cell_type": "code",
   "execution_count": 8,
   "id": "784b7e08",
   "metadata": {},
   "outputs": [],
   "source": [
    "#Define the convnet (Eventually replae with mobile 2)\n",
    "class ConvNet(nn.Module):\n",
    "    def __init__(self):\n",
    "        super(ConvNet, self).__init__()\n",
    "        self.conv1 = nn.Conv2d(3, 16, 3) #specify the size (outer numbers) and amount (middle number) of filters\n",
    "        self.pool = nn.MaxPool2d(2, 2) #specify pool size first number is size of pool, second is step size\n",
    "        self.conv2 = nn.Conv2d(16, 8, 3) #new depth is amount of filters in previous conv layer\n",
    "        self.fc1 = nn.Linear(54*54*8, 120)\n",
    "        self.fc2 = nn.Linear(120, 60)\n",
    "        self.fc3 = nn.Linear(60, 2) #finial fc layer needs 19 outputs because we have 19 layers # ???\n",
    "\n",
    "    def forward(self, x):\n",
    "\n",
    "        x = F.relu(self.conv1(x))\n",
    "     \n",
    "        x = self.pool(x)\n",
    "        \n",
    "       \n",
    "        x = F.relu(self.conv2(x))\n",
    "\n",
    "        x = self.pool(x)\n",
    "        print(x.shape)\n",
    "\n",
    "        x = x.view(-1, 54*54*8) # flatten\n",
    "\n",
    "        x = F.relu(self.fc1(x))    #fully connected, relu         \n",
    "        x = F.relu(self.fc2(x))    \n",
    "       \n",
    "        x = self.fc3(x)     #output    \n",
    "        return x"
   ]
  },
  {
   "cell_type": "code",
   "execution_count": 9,
   "id": "7f228425",
   "metadata": {},
   "outputs": [
    {
     "name": "stdout",
     "output_type": "stream",
     "text": [
      " -> <class '__main__.ConvNet'>\n",
      "conv1 -> <class 'torch.nn.modules.conv.Conv2d'>\n",
      "pool -> <class 'torch.nn.modules.pooling.MaxPool2d'>\n",
      "conv2 -> <class 'torch.nn.modules.conv.Conv2d'>\n",
      "fc1 -> <class 'torch.nn.modules.linear.Linear'>\n",
      "fc2 -> <class 'torch.nn.modules.linear.Linear'>\n",
      "fc3 -> <class 'torch.nn.modules.linear.Linear'>\n"
     ]
    },
    {
     "name": "stderr",
     "output_type": "stream",
     "text": [
      "C:\\Users\\bowdenaa\\AppData\\Local\\Temp\\ipykernel_18680\\3680321473.py:2: FutureWarning: You are using `torch.load` with `weights_only=False` (the current default value), which uses the default pickle module implicitly. It is possible to construct malicious pickle data which will execute arbitrary code during unpickling (See https://github.com/pytorch/pytorch/blob/main/SECURITY.md#untrusted-models for more details). In a future release, the default value for `weights_only` will be flipped to `True`. This limits the functions that could be executed during unpickling. Arbitrary objects will no longer be allowed to be loaded via this mode unless they are explicitly allowlisted by the user via `torch.serialization.add_safe_globals`. We recommend you start setting `weights_only=True` for any use case where you don't have full control of the loaded file. Please open an issue on GitHub for any issues related to this experimental feature.\n",
      "  model = torch.load(Path(research_dir, 'models', 'Basic CNN final run -- lr=0.001')).to(device)\n"
     ]
    }
   ],
   "source": [
    "os.chdir(home)\n",
    "model = torch.load(Path(research_dir, 'models', 'Basic CNN final run -- lr=0.001')).to(device)\n",
    "for param in model.parameters():\n",
    "    param.requires_grad = True\n",
    "for name, module in model.named_modules():\n",
    "    print(name, '->', type(module))\n"
   ]
  },
  {
   "cell_type": "code",
   "execution_count": 10,
   "id": "fa9e7758",
   "metadata": {},
   "outputs": [],
   "source": [
    "# image = val_set.__getitem__(2)['image'].to(device)\n",
    "# label = val_set.__getitem__(2)['label'].item()\n",
    "# label\n",
    "image_path = r'C:\\Users\\bowdenaa\\OneDrive - Stephen F. Austin State University\\CrisisMMD_v2.0\\CrisisMMD_v2.0\\data_image\\hurricane_harvey\\13_9_2017\\908031796092252162_0.jpg' \n",
    "# img = Image.open(image_path).convert('RGB')\n",
    "# img = pil_to_tensor(img)\n",
    "# img = transformations(img).unsqueeze(0).to(device) # add batch dimension\n",
    "# label = 1 # informative"
   ]
  },
  {
   "cell_type": "code",
   "execution_count": 11,
   "id": "0d75f814",
   "metadata": {},
   "outputs": [],
   "source": [
    "# map = compute_gradcam(model, img, label, conv_layer_name='conv2')\n",
    "# map"
   ]
  },
  {
   "cell_type": "code",
   "execution_count": 28,
   "id": "70e72755",
   "metadata": {},
   "outputs": [],
   "source": [
    "import cv2\n",
    "\n",
    "\n",
    "# os.chdir(home)\n",
    "\n",
    "\n",
    "# overlayed = overlay_heatmap(image_path,map, alpha=.25)\n",
    "# overlayed   "
   ]
  },
  {
   "cell_type": "code",
   "execution_count": 34,
   "id": "91529c0c",
   "metadata": {},
   "outputs": [],
   "source": [
    "target_layer = 'conv2'\n",
    "target_layer = model.conv2\n",
    "gradcam = GradCAM(model, target_layers=[target_layer])\n",
    "\n"
   ]
  },
  {
   "cell_type": "code",
   "execution_count": 41,
   "id": "aa119c08",
   "metadata": {},
   "outputs": [
    {
     "name": "stdout",
     "output_type": "stream",
     "text": [
      "(224, 224, 3)\n",
      "torch.Size([1, 8, 54, 54])\n"
     ]
    }
   ],
   "source": [
    "\n",
    "img = cv2.imread(image_path, cv2.IMREAD_COLOR)\n",
    "\n",
    "\n",
    "img = cv2.resize(img, (224, 224))\n",
    "img = np.float32(img) / 255\n",
    "input_tensor = preprocess_image(img, mean=[0.485, 0.456, 0.406], std=[0.229, 0.224, 0.225])\n",
    "print(img.shape)\n",
    "\n",
    "target_category = 1 # informative\n",
    "greyscale = gradcam(input_tensor)\n",
    "cam = np.uint8(255*greyscale[0,:])\n",
    "vis = show_cam_on_image(img, cam, use_rgb=True)"
   ]
  },
  {
   "cell_type": "code",
   "execution_count": 44,
   "id": "fde517b5",
   "metadata": {},
   "outputs": [],
   "source": [
    "pil_img = Image.fromarray(vis)\n",
    "pil_img.show()"
   ]
  },
  {
   "cell_type": "code",
   "execution_count": null,
   "id": "b518ff77",
   "metadata": {},
   "outputs": [],
   "source": []
  }
 ],
 "metadata": {
  "kernelspec": {
   "display_name": "torch",
   "language": "python",
   "name": "python3"
  },
  "language_info": {
   "codemirror_mode": {
    "name": "ipython",
    "version": 3
   },
   "file_extension": ".py",
   "mimetype": "text/x-python",
   "name": "python",
   "nbconvert_exporter": "python",
   "pygments_lexer": "ipython3",
   "version": "3.12.3"
  }
 },
 "nbformat": 4,
 "nbformat_minor": 5
}
