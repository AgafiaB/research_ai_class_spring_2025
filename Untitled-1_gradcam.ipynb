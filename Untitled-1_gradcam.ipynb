{
 "cells": [
  {
   "cell_type": "code",
   "execution_count": null,
   "id": "48bfa058",
   "metadata": {},
   "outputs": [
    {
     "ename": "",
     "evalue": "",
     "output_type": "error",
     "traceback": [
      "\u001b[1;31mThe kernel failed to start as a dll could not be loaded.\n",
      "\u001b[1;31mClick <a href='https://aka.ms/kernelFailuresDllLoad'>here</a> for more info."
     ]
    }
   ],
   "source": [
    "import torch\n",
    "import torch.nn as nn\n",
    "from model_helper import MobileNetV2, Inv2d\n",
    "import wandb\n",
    "import mysql.connector as connector\n",
    "from pathlib import Path\n",
    "import tqdm\n",
    "import torchvision\n",
    "import torch.nn.functional as F\n",
    "from torch.optim.lr_scheduler import MultiStepLR\n",
    "from torchvision.models import mobilenet_v2\n",
    "from pathlib import Path\n",
    "from torchvision.io import decode_image\n",
    "from torch.utils.data import Dataset \n",
    "import os\n",
    "import torch\n",
    "import logging\n",
    "import numpy as np\n",
    "import cv2\n",
    "from PIL import Image\n",
    "import torchvision.transforms as transforms"
   ]
  },
  {
   "cell_type": "code",
   "execution_count": null,
   "id": "dfcfc97e",
   "metadata": {},
   "outputs": [
    {
     "ename": "",
     "evalue": "",
     "output_type": "error",
     "traceback": [
      "\u001b[1;31mThe kernel failed to start as a dll could not be loaded.\n",
      "\u001b[1;31mClick <a href='https://aka.ms/kernelFailuresDllLoad'>here</a> for more info."
     ]
    }
   ],
   "source": [
    "import data_helper"
   ]
  },
  {
   "cell_type": "code",
   "execution_count": null,
   "id": "7c8de65d",
   "metadata": {},
   "outputs": [
    {
     "ename": "",
     "evalue": "",
     "output_type": "error",
     "traceback": [
      "\u001b[1;31mThe kernel failed to start as a dll could not be loaded.\n",
      "\u001b[1;31mClick <a href='https://aka.ms/kernelFailuresDllLoad'>here</a> for more info."
     ]
    }
   ],
   "source": [
    "#Define the convnet (Eventually replae with mobile 2)\n",
    "class ConvNet(nn.Module):\n",
    "    def __init__(self):\n",
    "        super(ConvNet, self).__init__()\n",
    "        self.conv1 = nn.Conv2d(3, 16, 3) #specify the size (outer numbers) and amount (middle number) of filters\n",
    "        self.pool = nn.MaxPool2d(2, 2) #specify pool size first number is size of pool, second is step size\n",
    "        self.conv2 = nn.Conv2d(16, 8, 3) #new depth is amount of filters in previous conv layer\n",
    "        self.fc1 = nn.Linear(54*54*8, 120)\n",
    "        self.fc2 = nn.Linear(120, 60)\n",
    "        self.fc3 = nn.Linear(60, 2) #finial fc layer needs 19 outputs because we have 19 layers # ???\n",
    "\n",
    "    def forward(self, x):\n",
    "\n",
    "        x = F.relu(self.conv1(x))\n",
    "     \n",
    "        x = self.pool(x)\n",
    "       \n",
    "        x = F.relu(self.conv2(x))\n",
    "\n",
    "        x = self.pool(x)\n",
    "\n",
    "        x = x.view(-1, 54*54*8) # flatten\n",
    "\n",
    "        x = F.relu(self.fc1(x))    #fully connected, relu         \n",
    "        x = F.relu(self.fc2(x))    \n",
    "       \n",
    "        x = self.fc3(x)     #output    \n",
    "        return x"
   ]
  },
  {
   "cell_type": "code",
   "execution_count": 28,
   "id": "43ad1470",
   "metadata": {},
   "outputs": [],
   "source": [
    "#show_gradcam_image(model_datapath, image_datapath, class_idx)"
   ]
  },
  {
   "cell_type": "code",
   "execution_count": 31,
   "id": "f521a8fe",
   "metadata": {},
   "outputs": [
    {
     "name": "stderr",
     "output_type": "stream",
     "text": [
      "c:\\Users\\hackered\\ai_research_proj_spring_2025\\research_ai_class_spring_2025\\data_helper.py:185: FutureWarning: You are using `torch.load` with `weights_only=False` (the current default value), which uses the default pickle module implicitly. It is possible to construct malicious pickle data which will execute arbitrary code during unpickling (See https://github.com/pytorch/pytorch/blob/main/SECURITY.md#untrusted-models for more details). In a future release, the default value for `weights_only` will be flipped to `True`. This limits the functions that could be executed during unpickling. Arbitrary objects will no longer be allowed to be loaded via this mode unless they are explicitly allowlisted by the user via `torch.serialization.add_safe_globals`. We recommend you start setting `weights_only=True` for any use case where you don't have full control of the loaded file. Please open an issue on GitHub for any issues related to this experimental feature.\n",
      "  model = torch.load(model_datapath, map_location=torch.device('cpu'))\n"
     ]
    },
    {
     "ename": "NameError",
     "evalue": "name 'Image' is not defined",
     "output_type": "error",
     "traceback": [
      "\u001b[31m---------------------------------------------------------------------------\u001b[39m",
      "\u001b[31mNameError\u001b[39m                                 Traceback (most recent call last)",
      "\u001b[36mCell\u001b[39m\u001b[36m \u001b[39m\u001b[32mIn[31]\u001b[39m\u001b[32m, line 4\u001b[39m\n\u001b[32m      1\u001b[39m model = \u001b[33mr\u001b[39m\u001b[33m\"\u001b[39m\u001b[33mC:\u001b[39m\u001b[33m\\\u001b[39m\u001b[33mUsers\u001b[39m\u001b[33m\\\u001b[39m\u001b[33mhackered\u001b[39m\u001b[33m\\\u001b[39m\u001b[33mai_research_proj_spring_2025\u001b[39m\u001b[33m\\\u001b[39m\u001b[33mresearch_ai_class_spring_2025\u001b[39m\u001b[33m\\\u001b[39m\u001b[33mmodels Basic CNN 1\u001b[39m\u001b[33m\"\u001b[39m\n\u001b[32m      2\u001b[39m image = \u001b[33mr\u001b[39m\u001b[33m\"\u001b[39m\u001b[33mC:\u001b[39m\u001b[33m\\\u001b[39m\u001b[33mUsers\u001b[39m\u001b[33m\\\u001b[39m\u001b[33mhackered\u001b[39m\u001b[33m\\\u001b[39m\u001b[33mcrisis_npl_data\u001b[39m\u001b[33m\\\u001b[39m\u001b[33mCrisisMMD_v2.0\u001b[39m\u001b[33m\\\u001b[39m\u001b[33mCrisisMMD_v2.0\u001b[39m\u001b[33m\\\u001b[39m\u001b[33mdata_image\u001b[39m\u001b[33m\\\u001b[39m\u001b[33mhurricane_harvey\u001b[39m\u001b[33m\\\u001b[39m\u001b[33m7_9_2017\u001b[39m\u001b[33m\\\u001b[39m\u001b[33m905905349437399041_0\u001b[39m\u001b[33m\"\u001b[39m\n\u001b[32m----> \u001b[39m\u001b[32m4\u001b[39m \u001b[43mdata_helper\u001b[49m\u001b[43m.\u001b[49m\u001b[43mshow_gradcam_image\u001b[49m\u001b[43m(\u001b[49m\u001b[43mmodel\u001b[49m\u001b[43m,\u001b[49m\u001b[43m \u001b[49m\u001b[43mimage\u001b[49m\u001b[43m,\u001b[49m\u001b[43m \u001b[49m\u001b[32;43m1\u001b[39;49m\u001b[43m)\u001b[49m\n",
      "\u001b[36mFile \u001b[39m\u001b[32mc:\\Users\\hackered\\ai_research_proj_spring_2025\\research_ai_class_spring_2025\\data_helper.py:186\u001b[39m, in \u001b[36mshow_gradcam_image\u001b[39m\u001b[34m(model_datapath, image_datapath, class_idx)\u001b[39m\n\u001b[32m    181\u001b[39m \u001b[38;5;28;01mdef\u001b[39;00m\u001b[38;5;250m \u001b[39m\u001b[34mshow_gradcam_image\u001b[39m(model_datapath, image_datapath, class_idx):\n\u001b[32m    182\u001b[39m     \u001b[38;5;66;03m#class_idx: 0 = non informative, 1 = informative\u001b[39;00m\n\u001b[32m    183\u001b[39m \n\u001b[32m    184\u001b[39m     \u001b[38;5;66;03m#load in the model and image\u001b[39;00m\n\u001b[32m    185\u001b[39m     model = torch.load(model_datapath, map_location=torch.device(\u001b[33m'\u001b[39m\u001b[33mcpu\u001b[39m\u001b[33m'\u001b[39m))\n\u001b[32m--> \u001b[39m\u001b[32m186\u001b[39m     image = \u001b[43mImage\u001b[49m.open(image_datapath)\n\u001b[32m    188\u001b[39m     \u001b[38;5;66;03m# Define a transform to convert PIL \u001b[39;00m\n\u001b[32m    189\u001b[39m     \u001b[38;5;66;03m# image to a Torch tensor\u001b[39;00m\n\u001b[32m    190\u001b[39m     transform = transforms.Compose([\n\u001b[32m    191\u001b[39m         transforms.PILToTensor()\n\u001b[32m    192\u001b[39m     ])\n",
      "\u001b[31mNameError\u001b[39m: name 'Image' is not defined"
     ]
    }
   ],
   "source": [
    "model = r\"C:\\Users\\hackered\\ai_research_proj_spring_2025\\research_ai_class_spring_2025\\models Basic CNN 1\"\n",
    "image = r\"C:\\Users\\hackered\\crisis_npl_data\\CrisisMMD_v2.0\\CrisisMMD_v2.0\\data_image\\hurricane_harvey\\7_9_2017\\905905349437399041_0\"\n",
    "\n",
    "data_helper.show_gradcam_image(model, image, 1)"
   ]
  },
  {
   "cell_type": "code",
   "execution_count": null,
   "id": "ba842fcd",
   "metadata": {},
   "outputs": [],
   "source": []
  },
  {
   "cell_type": "code",
   "execution_count": null,
   "id": "9b2e12d1",
   "metadata": {},
   "outputs": [],
   "source": []
  }
 ],
 "metadata": {
  "kernelspec": {
   "display_name": "torch",
   "language": "python",
   "name": "python3"
  },
  "language_info": {
   "codemirror_mode": {
    "name": "ipython",
    "version": 3
   },
   "file_extension": ".py",
   "mimetype": "text/x-python",
   "name": "python",
   "nbconvert_exporter": "python",
   "pygments_lexer": "ipython3",
   "version": "3.13.2"
  }
 },
 "nbformat": 4,
 "nbformat_minor": 5
}
