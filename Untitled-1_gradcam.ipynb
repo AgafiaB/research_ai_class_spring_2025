{
 "cells": [
  {
   "cell_type": "code",
   "execution_count": null,
   "id": "48bfa058",
   "metadata": {},
   "outputs": [],
   "source": [
    "\n",
    "# temporary solution to crashing\n",
    "import os\n",
    "os.environ['KMP_DUPLICATE_LIB_OK'] = 'TRUE'\n",
    "\n",
    "import torch\n",
    "import torch.nn as nn\n",
    "from model_helper import MobileNetV2, Inv2d\n",
    "import wandb\n",
    "import mysql.connector as connector\n",
    "from pathlib import Path\n",
    "import tqdm\n",
    "import torchvision\n",
    "import torch.nn.functional as F\n",
    "from torch.optim.lr_scheduler import MultiStepLR\n",
    "from torchvision.models import mobilenet_v2\n",
    "from pathlib import Path\n",
    "from torchvision.io import decode_image\n",
    "from torch.utils.data import Dataset \n",
    "import os\n",
    "import torch\n",
    "import logging\n",
    "import numpy as np\n",
    "import cv2\n",
    "from PIL import Image\n",
    "import torchvision.transforms as transforms"
   ]
  },
  {
   "cell_type": "code",
   "execution_count": null,
   "id": "dfcfc97e",
   "metadata": {},
   "outputs": [],
   "source": [
    "import data_helper"
   ]
  },
  {
   "cell_type": "code",
   "execution_count": null,
   "id": "7c8de65d",
   "metadata": {},
   "outputs": [],
   "source": [
    "#Define the convnet (Eventually replae with mobile 2)\n",
    "class ConvNet(nn.Module):\n",
    "    def __init__(self):\n",
    "        super(ConvNet, self).__init__()\n",
    "        self.conv1 = nn.Conv2d(3, 16, 3) #specify the size (outer numbers) and amount (middle number) of filters\n",
    "        self.pool = nn.MaxPool2d(2, 2) #specify pool size first number is size of pool, second is step size\n",
    "        self.conv2 = nn.Conv2d(16, 8, 3) #new depth is amount of filters in previous conv layer\n",
    "        self.fc1 = nn.Linear(54*54*8, 120)\n",
    "        self.fc2 = nn.Linear(120, 60)\n",
    "        self.fc3 = nn.Linear(60, 2) #finial fc layer needs 19 outputs because we have 19 layers # ???\n",
    "\n",
    "    def forward(self, x):\n",
    "\n",
    "        x = F.relu(self.conv1(x))\n",
    "     \n",
    "        x = self.pool(x)\n",
    "       \n",
    "        x = F.relu(self.conv2(x))\n",
    "\n",
    "        x = self.pool(x)\n",
    "\n",
    "        x = x.view(-1, 54*54*8) # flatten\n",
    "\n",
    "        x = F.relu(self.fc1(x))    #fully connected, relu         \n",
    "        x = F.relu(self.fc2(x))    \n",
    "       \n",
    "        x = self.fc3(x)     #output    \n",
    "        return x"
   ]
  },
  {
   "cell_type": "code",
   "execution_count": null,
   "id": "43ad1470",
   "metadata": {},
   "outputs": [],
   "source": [
    "#show_gradcam_image(model_datapath, image_datapath, class_idx)"
   ]
  },
  {
   "cell_type": "code",
   "execution_count": null,
   "id": "50fd2dce",
   "metadata": {},
   "outputs": [],
   "source": [
    "test_model = ConvNet()\n",
    "for name, param in test_model.named_parameters():\n",
    "    print(name)"
   ]
  },
  {
   "cell_type": "code",
   "execution_count": null,
   "id": "f521a8fe",
   "metadata": {},
   "outputs": [],
   "source": [
    "model = r\"C:\\Users\\bowdenaa\\ai_research_proj_spring_2025\\research_ai_class_spring_2025\\models Basic CNN 1\"\n",
    "image = r\"C:\\Users\\bowdenaa\\CrisisMMD_v2.0\\CrisisMMD_v2.0\\data_image\\hurricane_harvey\\5_9_2017\\904856788922720256_1.jpg\"\n",
    "\n",
    "data_helper.show_gradcam_image(model, image, 1)\n",
    "#model = torch.load(model)"
   ]
  },
  {
   "cell_type": "code",
   "execution_count": null,
   "id": "ba842fcd",
   "metadata": {},
   "outputs": [],
   "source": [
    "#model"
   ]
  },
  {
   "cell_type": "code",
   "execution_count": null,
   "id": "9b2e12d1",
   "metadata": {},
   "outputs": [],
   "source": []
  }
 ],
 "metadata": {
  "kernelspec": {
   "display_name": "torch",
   "language": "python",
   "name": "python3"
  },
  "language_info": {
   "codemirror_mode": {
    "name": "ipython",
    "version": 3
   },
   "file_extension": ".py",
   "mimetype": "text/x-python",
   "name": "python",
   "nbconvert_exporter": "python",
   "pygments_lexer": "ipython3",
   "version": "3.12.3"
  }
 },
 "nbformat": 4,
 "nbformat_minor": 5
}
