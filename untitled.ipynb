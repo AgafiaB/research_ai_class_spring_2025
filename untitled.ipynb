{
 "cells": [
  {
   "cell_type": "code",
   "execution_count": 1,
   "id": "1761d6af",
   "metadata": {},
   "outputs": [],
   "source": [
    "import os\n",
    "os.environ['KMP_DUPLICATE_LIB_OK']='TRUE'\n",
    "\n",
    "from model_helper import Inv2d"
   ]
  },
  {
   "cell_type": "code",
   "execution_count": 2,
   "id": "c49de669",
   "metadata": {},
   "outputs": [],
   "source": [
    "import torch\n",
    "import torch.nn as nn"
   ]
  },
  {
   "cell_type": "code",
   "execution_count": 5,
   "id": "01aa8032",
   "metadata": {},
   "outputs": [],
   "source": [
    "inv2d = Inv2d(200, reduction=2, stride=2, padding=1, group_ch=200)\n",
    "test_in = torch.randn(1, 200, 16, 16)"
   ]
  },
  {
   "cell_type": "code",
   "execution_count": 6,
   "id": "f6be6552",
   "metadata": {},
   "outputs": [
    {
     "name": "stdout",
     "output_type": "stream",
     "text": [
      "torch.Size([1, 1, 1, 9, 64])\n"
     ]
    },
    {
     "data": {
      "text/plain": [
       "torch.Size([1, 200, 8, 8])"
      ]
     },
     "execution_count": 6,
     "metadata": {},
     "output_type": "execute_result"
    }
   ],
   "source": [
    "inv2d(test_in).shape"
   ]
  },
  {
   "cell_type": "code",
   "execution_count": null,
   "id": "45d59877",
   "metadata": {},
   "outputs": [],
   "source": []
  },
  {
   "cell_type": "code",
   "execution_count": null,
   "id": "52d3cabb",
   "metadata": {},
   "outputs": [],
   "source": []
  }
 ],
 "metadata": {
  "kernelspec": {
   "display_name": "torch",
   "language": "python",
   "name": "python3"
  },
  "language_info": {
   "codemirror_mode": {
    "name": "ipython",
    "version": 3
   },
   "file_extension": ".py",
   "mimetype": "text/x-python",
   "name": "python",
   "nbconvert_exporter": "python",
   "pygments_lexer": "ipython3",
   "version": "3.12.3"
  }
 },
 "nbformat": 4,
 "nbformat_minor": 5
}
