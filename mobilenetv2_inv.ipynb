{
 "cells": [
  {
   "cell_type": "code",
   "execution_count": 16,
   "id": "08087e2b",
   "metadata": {},
   "outputs": [],
   "source": [
    "# temporary solution to crashing\n",
    "import os\n",
    "os.environ['KMP_DUPLICATE_LIB_OK'] = 'TRUE'"
   ]
  },
  {
   "cell_type": "code",
   "execution_count": 17,
   "id": "1fca27a4",
   "metadata": {},
   "outputs": [],
   "source": [
    "import torch\n",
    "import torch.nn as nn\n",
    "import torch.nn.functional as F\n",
    "#import torchvision.transforms as transforms\n",
    "from torch import Tensor\n",
    "from torchvision.ops import Conv2dNormActivation\n",
    "\n",
    "import matplotlib.pyplot as plt\n",
    "import numpy as np\n",
    "#import mysql.connector as connector\n",
    "\n",
    "from pathlib import Path"
   ]
  },
  {
   "cell_type": "code",
   "execution_count": null,
   "id": "20e27b30",
   "metadata": {},
   "outputs": [],
   "source": [
    "# issues to debug: since groups == hidden_dim and hidden_dim == int(round(in_channels * expand_ratio))\n",
    "# the in_channels are not divisible by groups\n",
    "\n",
    "class InvertedResidual(nn.Module):\n",
    "    def __init__(self, in_channels, out_channels, stride, expand_ratio, norm_layer=None):\n",
    "        super().__init__()\n",
    "\n",
    "        assert stride == 1 or stride == 2, 'stride must be 1 or 2'\n",
    "\n",
    "        if norm_layer is None:\n",
    "            norm_layer = nn.BatchNorm2d\n",
    "        \n",
    "        hidden_dim = int(round(in_channels * expand_ratio))\n",
    "        # print(hidden_dim)\n",
    "\n",
    "        layers = [] \n",
    "\n",
    "        if expand_ratio != 1:\n",
    "            # add expansion \n",
    "            layers.append(Conv2dNormActivation(in_channels, hidden_dim, kernel_size=3, stride=stride, \n",
    "                                               norm_layer=norm_layer, activation_layer=nn.ReLU6))\n",
    "        # depthwise conv => pointwise => norm_layer\n",
    "        # hidden_dim == in_channels if expand_ratio==1\n",
    "        # b/c groups = hidden_dim, each input channel is convolved with its own set of filters\n",
    "            # b/c instead of using multiple 3d kernels, we want multiple 2d kernels that each go across a different channel\n",
    "        layers.extend([Conv2dNormActivation(hidden_dim, hidden_dim, kernel_size=3, stride=stride, groups=hidden_dim, norm_layer=norm_layer, activation_layer=nn.ReLU6), \n",
    "                                                nn.Conv2d(hidden_dim, out_channels, 1, 1, 0, bias=False), \n",
    "                                                norm_layer(out_channels)])\n",
    "        \n",
    "        self.conv = nn.Sequential(*layers)\n",
    "        \n",
    "        self.stride = stride\n",
    "        self.out_channels = out_channels\n",
    "        self.in_channels = in_channels\n",
    "        self._is_cn = stride > 1 # downsample indicator - what does this mean?\n",
    "        self.use_res_conn = stride == 1 and in_channels == out_channels\n",
    "\n",
    "    def forward(self, x):\n",
    "        if self.use_res_conn:\n",
    "            return x + self.conv(x)\n",
    "        else:                \n",
    "            return self.conv(x)\n",
    "        "
   ]
  },
  {
   "cell_type": "code",
   "execution_count": null,
   "id": "212bad71",
   "metadata": {},
   "outputs": [
    {
     "data": {
      "text/plain": [
       "torch.Size([1, 30, 32, 32])"
      ]
     },
     "execution_count": 19,
     "metadata": {},
     "output_type": "execute_result"
    }
   ],
   "source": [
    "# testing the inverted residual layers\n",
    "\n",
    "test_inv = InvertedResidual(3, 30, 1, 2)\n",
    "test_input = torch.randn(1, 3, 32, 32)\n",
    "\n",
    "test_inv(test_input).shape"
   ]
  },
  {
   "cell_type": "code",
   "execution_count": 20,
   "id": "d1383f5e",
   "metadata": {},
   "outputs": [],
   "source": [
    "def _make_divisible(v, divisor, min_value=None): # rounds to nearest multiple of divisor\n",
    "    if min_value is None:\n",
    "        min_value = divisor\n",
    "    new_v = max(min_value, int(v + divisor / 2) // divisor * divisor)\n",
    "    if new_v < 0.9 * v:\n",
    "        new_v += divisor\n",
    "    return new_v"
   ]
  },
  {
   "cell_type": "code",
   "execution_count": null,
   "id": "61d3d5a7",
   "metadata": {},
   "outputs": [],
   "source": [
    "''' \n",
    "[x]: self.features produces a runtime error when batch_size = 1, [which means there MIGHT be something erroneous with the implementation] \n",
    "-- the reason is because batchnorm expects more than 1 sample in a batch, so the implementation is fine\n",
    "'''\n",
    "class MobileNetV2(nn.Module):\n",
    "    \"\"\"\n",
    "        MobileNet V2 main class\n",
    "\n",
    "        Args:\n",
    "            width_mult (float): Width multiplier - adjusts number of channels in each layer by this amount\n",
    "            inverted_residual_setting: Network structure\n",
    "            round_nearest (int): Round the number of channels in each layer to be a multiple of this number\n",
    "            Set to 1 to turn off rounding\n",
    "            block: Module specifying inverted residual building block for mobilenet\n",
    "            norm_layer: Module specifying the normalization layer to use\n",
    "\n",
    "        \"\"\"\n",
    "    def __init__(self, width_mult=1.0, inverted_residual_setting = None, round_nearest=8,\n",
    "                  block = None, norm_layer = None, dropout = 0.2):\n",
    "        super().__init__()\n",
    "        if block is None:\n",
    "            block = InvertedResidual\n",
    "\n",
    "        if norm_layer is None:\n",
    "            norm_layer = nn.BatchNorm2d\n",
    "        \n",
    "        input_channel = 32 # adjustable\n",
    "        last_channel = 1280 # adjustable\n",
    "\n",
    "        if inverted_residual_setting is None:\n",
    "            inverted_residual_setting = [\n",
    "                # t - expansion factor, c - # of output after block, n - # of repitions, s - stride\n",
    "                [1, 16, 1, 1],\n",
    "                [6, 24, 2, 2],\n",
    "                [6, 32, 3, 2],\n",
    "                [6, 64, 4, 2],\n",
    "                [6, 96, 3, 1],\n",
    "                [6, 160, 3, 2],\n",
    "                [6, 320, 1, 1],\n",
    "            ]\n",
    "\n",
    "        # build the first layer\n",
    "        # input_channel is the number of channels after the first Conv2dNormActivation\n",
    "        input_channel = _make_divisible(input_channel * width_mult, round_nearest)\n",
    "        \n",
    "        self.last_channel = _make_divisible(last_channel * max(1.0, width_mult), round_nearest)\n",
    "\n",
    "        \n",
    "        features = [\n",
    "            Conv2dNormActivation(3, input_channel, kernel_size=3, stride=2, norm_layer=norm_layer, activation_layer=nn.ReLU6)\n",
    "        ]\n",
    "\n",
    "        # build the inverted residual blocks\n",
    "        for t, c, n, s in inverted_residual_setting:\n",
    "            output_channel = _make_divisible(c*width_mult, round_nearest)\n",
    "            for i in range(n):\n",
    "                stride = s if i == 0 else 1\n",
    "                features.append(block(input_channel, output_channel, stride, expand_ratio=t, norm_layer=norm_layer))\n",
    "                input_channel = output_channel \n",
    "                \n",
    "        # build last severals\n",
    "        features.append(Conv2dNormActivation(input_channel, self.last_channel, kernel_size=1, norm_layer=norm_layer, activation_layer=nn.ReLU6))\n",
    "\n",
    "        # complete CNN architecture\n",
    "        self.features = nn.Sequential(*features) \n",
    "\n",
    "        # weight initialization\n",
    "        for m in self.modules():\n",
    "            # print('initializing weights')\n",
    "            if isinstance(m, nn.Conv2d):\n",
    "                nn.init.kaiming_normal_(m.weight, mode=\"fan_out\")\n",
    "                if m.bias is not None:\n",
    "                    nn.init.zeros_(m.bias)\n",
    "            elif isinstance(m, (nn.BatchNorm2d, nn.GroupNorm)):\n",
    "                nn.init.ones_(m.weight)\n",
    "                nn.init.zeros_(m.bias)\n",
    "            elif isinstance(m, nn.Linear):\n",
    "                nn.init.normal_(m.weight, 0, 0.01)\n",
    "                nn.init.zeros_(m.bias)\n",
    "    \n",
    "    def _forward_impl(self, x):\n",
    "        x = self.features(x) # pass input through layers\n",
    "        \n",
    "        x = nn.functional.adaptive_avg_pool2d(x, (1, 1)) # takes the average value for each each channel\n",
    "        x = torch.flatten(x, 1) # flatten for linear layer\n",
    "        # x = self.classifier(x) # classify\n",
    "        return x\n",
    "\n",
    "    def forward(self, x):\n",
    "        return self._forward_impl(x)\n"
   ]
  },
  {
   "cell_type": "code",
   "execution_count": 33,
   "id": "68cc0539",
   "metadata": {},
   "outputs": [],
   "source": [
    "test_mod = MobileNetV2()\n",
    "\n",
    "test_in = torch.randn(2, 3, 32, 32)"
   ]
  },
  {
   "cell_type": "code",
   "execution_count": 34,
   "id": "83afa3a7",
   "metadata": {},
   "outputs": [
    {
     "data": {
      "text/plain": [
       "torch.Size([2, 1280])"
      ]
     },
     "execution_count": 34,
     "metadata": {},
     "output_type": "execute_result"
    }
   ],
   "source": [
    "test_mod(test_in).shape"
   ]
  },
  {
   "cell_type": "code",
   "execution_count": null,
   "id": "62146a4a",
   "metadata": {},
   "outputs": [],
   "source": [
    "class InvertedResidual_Inv(nn.Module):\n",
    "    ..."
   ]
  },
  {
   "cell_type": "code",
   "execution_count": null,
   "id": "70c6a3e2",
   "metadata": {},
   "outputs": [],
   "source": []
  }
 ],
 "metadata": {
  "kernelspec": {
   "display_name": "torch",
   "language": "python",
   "name": "python3"
  },
  "language_info": {
   "codemirror_mode": {
    "name": "ipython",
    "version": 3
   },
   "file_extension": ".py",
   "mimetype": "text/x-python",
   "name": "python",
   "nbconvert_exporter": "python",
   "pygments_lexer": "ipython3",
   "version": "3.12.3"
  }
 },
 "nbformat": 4,
 "nbformat_minor": 5
}
